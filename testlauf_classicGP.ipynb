{
 "cells": [
  {
   "cell_type": "code",
   "execution_count": 1,
   "id": "10e32bad",
   "metadata": {},
   "outputs": [],
   "source": [
    "from netgen.geom2d import SplineGeometry\n",
    "from ngsolve import *\n",
    "from ngsolve.internal import *\n",
    "import ngsolve\n",
    "from xfem import *\n",
    "from xfem.lsetcurv import *\n",
    "from ngsolve.webgui import Draw"
   ]
  },
  {
   "cell_type": "code",
   "execution_count": 2,
   "id": "6d14ee6f",
   "metadata": {},
   "outputs": [
    {
     "data": {
      "text/plain": [
       "'\\nfrom ngsolve import *\\nfrom math import pi\\n\\nmaxh = 0.1  # Maximaler Elementabstand\\n# Analytische Geschwindigkeit (als GridFunction oder CoefficientFunction)\\nuexact = CoefficientFunction((\\n    sin(pi*x) * cos(pi*y),   # u(x,y)\\n    -cos(pi*x) * sin(pi*y)   # v(x,y)\\n))\\npexact = sin(pi*x) * sin(pi*y)\\n# Laplace von uexact (Komponentenweise)\\nlapu_x = -pi**2 * sin(pi*x) * cos(pi*y) * 2\\nlapu_y = -pi**2 * (-cos(pi*x) * sin(pi*y)) * 2  # Minuszeichen kommt von v\\n\\n# Gradient von p\\ndp_dx = pi * cos(pi*x) * sin(pi*y)\\ndp_dy = pi * sin(pi*x) * cos(pi*y)\\n\\n# Gesamte rechte Seite f = -Δu + ∇p\\nf = CoefficientFunction((\\n    -lapu_x + dp_dx,\\n    -lapu_y + dp_dy\\n))\\n\\nr = sqrt(x**2 + y**2)\\nlevelset = r - 1\\n#f= CF((0,x))\\n\\n#uexact = CoefficientFunction((    -r * (1 - r**2) * y, r * (1 - r**2) * x))\\n\\n# Analytischer Druck\\n#pexact = (r + 3 - 15 * r**2) * y\\nu1 = -4*y * (1 - x**2 - y**2)\\nu2 = 4*x*(1 - x**2 - y**2)\\nuexact = CoefficientFunction((u1, u2))\\n\\npexact = sin(x)*cos(y)\\n\\n# Laplace-Anteil\\nlapu1 = 32*y\\nlapu2 = -32*x\\n\\n\\n# Gradient von p\\ndpdx = cos(x) * cos(y)\\ndpdy = -sin(x) * sin(y)\\n\\nf = CoefficientFunction((\\n    -lapu1 - dpdx,\\n    -lapu2 - dpdy\\n))\\n\\nfrom ngsolve.webgui import Draw\\n\\norder = 2\\n\\nsquare = SplineGeometry()\\nsquare.AddRectangle((-1.25, -1.25), (1.25, 1.25), bc=1)\\nngmesh = square.GenerateMesh(maxh=maxh)\\nmesh = Mesh(ngmesh)\\n\\nlsetmeshadap = LevelSetMeshAdaptation(mesh, order=order, threshold=0.1,discontinuous_qn=True)# Higher order level set approximation \\ndeformation = lsetmeshadap.CalcDeformation(levelset)\\n\\nlsetp1 = GridFunction(H1(mesh,order=1,autoupdate=True),autoupdate=True)\\nInterpolateToP1(levelset,lsetp1)# Element, facet and dof marking w.r.t. boundary approximation with lsetp1:\\n#Draw(lsetp1, mesh, f\"levelset_maxh{maxh}\")\\nDraw(lsetp1,uexact, CF((0,0)), mesh, \"uexact\")\\n'"
      ]
     },
     "execution_count": 2,
     "metadata": {},
     "output_type": "execute_result"
    }
   ],
   "source": [
    "\"\"\"\n",
    "from ngsolve import *\n",
    "from math import pi\n",
    "\n",
    "maxh = 0.1  # Maximaler Elementabstand\n",
    "# Analytische Geschwindigkeit (als GridFunction oder CoefficientFunction)\n",
    "uexact = CoefficientFunction((\n",
    "    sin(pi*x) * cos(pi*y),   # u(x,y)\n",
    "    -cos(pi*x) * sin(pi*y)   # v(x,y)\n",
    "))\n",
    "pexact = sin(pi*x) * sin(pi*y)\n",
    "# Laplace von uexact (Komponentenweise)\n",
    "lapu_x = -pi**2 * sin(pi*x) * cos(pi*y) * 2\n",
    "lapu_y = -pi**2 * (-cos(pi*x) * sin(pi*y)) * 2  # Minuszeichen kommt von v\n",
    "\n",
    "# Gradient von p\n",
    "dp_dx = pi * cos(pi*x) * sin(pi*y)\n",
    "dp_dy = pi * sin(pi*x) * cos(pi*y)\n",
    "\n",
    "# Gesamte rechte Seite f = -Δu + ∇p\n",
    "f = CoefficientFunction((\n",
    "    -lapu_x + dp_dx,\n",
    "    -lapu_y + dp_dy\n",
    "))\n",
    "\n",
    "r = sqrt(x**2 + y**2)\n",
    "levelset = r - 1\n",
    "#f= CF((0,x))\n",
    "\n",
    "#uexact = CoefficientFunction((    -r * (1 - r**2) * y, r * (1 - r**2) * x))\n",
    "\n",
    "# Analytischer Druck\n",
    "#pexact = (r + 3 - 15 * r**2) * y\n",
    "u1 = -4*y * (1 - x**2 - y**2)\n",
    "u2 = 4*x*(1 - x**2 - y**2)\n",
    "uexact = CoefficientFunction((u1, u2))\n",
    "\n",
    "pexact = sin(x)*cos(y)\n",
    "\n",
    "# Laplace-Anteil\n",
    "lapu1 = 32*y\n",
    "lapu2 = -32*x\n",
    "\n",
    "\n",
    "# Gradient von p\n",
    "dpdx = cos(x) * cos(y)\n",
    "dpdy = -sin(x) * sin(y)\n",
    "\n",
    "f = CoefficientFunction((\n",
    "    -lapu1 - dpdx,\n",
    "    -lapu2 - dpdy\n",
    "))\n",
    "\n",
    "from ngsolve.webgui import Draw\n",
    "\n",
    "order = 2\n",
    "\n",
    "square = SplineGeometry()\n",
    "square.AddRectangle((-1.25, -1.25), (1.25, 1.25), bc=1)\n",
    "ngmesh = square.GenerateMesh(maxh=maxh)\n",
    "mesh = Mesh(ngmesh)\n",
    "\n",
    "lsetmeshadap = LevelSetMeshAdaptation(mesh, order=order, threshold=0.1,discontinuous_qn=True)# Higher order level set approximation \n",
    "deformation = lsetmeshadap.CalcDeformation(levelset)\n",
    "\n",
    "lsetp1 = GridFunction(H1(mesh,order=1,autoupdate=True),autoupdate=True)\n",
    "InterpolateToP1(levelset,lsetp1)# Element, facet and dof marking w.r.t. boundary approximation with lsetp1:\n",
    "#Draw(lsetp1, mesh, f\"levelset_maxh{maxh}\")\n",
    "Draw(lsetp1,uexact, CF((0,0)), mesh, \"uexact\")\n",
    "\"\"\""
   ]
  },
  {
   "cell_type": "code",
   "execution_count": 3,
   "id": "05d87afe",
   "metadata": {},
   "outputs": [],
   "source": [
    "square = SplineGeometry()\n",
    "square.AddRectangle((-1.25, -1.25), (1.25, 1.25), bc=1)\n",
    "ngmesh = square.GenerateMesh(maxh=0.2)\n",
    "mesh = Mesh(ngmesh)\n",
    "\n",
    "# possible sol for square\n",
    "\n",
    "from ngsolve import IfPos\n",
    "\n",
    "def ngsmax(a, b):\n",
    "    return IfPos(a - b, a, b)\n",
    "levelset= ngsmax(x**2,y**2)- 1 \n",
    "  \n",
    "# Manufactured solution\n",
    "uexact = CoefficientFunction((\n",
    "    sin(pi*x) * cos(pi*y),\n",
    "    -cos(pi*x) * sin(pi*y)\n",
    "))\n",
    "pexact = sin(pi*x) * sin(pi*y)\n",
    "\n",
    "lapu_x = -pi**2 * sin(pi*x) * cos(pi*y) * 2\n",
    "lapu_y = -pi**2 * (-cos(pi*x) * sin(pi*y)) * 2\n",
    "dp_dx = pi * cos(pi*x) * sin(pi*y)\n",
    "dp_dy = pi * sin(pi*x) * cos(pi*y)\n",
    "f = CoefficientFunction((\n",
    "    -lapu_x - dp_dx,\n",
    "    -lapu_y - dp_dy\n",
    "))\n",
    "lsetmeshadap = LevelSetMeshAdaptation(mesh, order=1, threshold=0.1,discontinuous_qn=True)# Higher order level set approximation \n",
    "deformation = lsetmeshadap.CalcDeformation(levelset)\n",
    "lsetp1 = lsetmeshadap.lset_p1\n",
    "lsetp1 = GridFunction(H1(mesh))\n",
    "InterpolateToP1(levelset,lsetp1)# Element, facet and dof marking w.r.t. boundary approximation with lsetp1:\n"
   ]
  },
  {
   "cell_type": "code",
   "execution_count": null,
   "id": "159e2828",
   "metadata": {},
   "outputs": [
    {
     "name": "stdout",
     "output_type": "stream",
     "text": [
      "0.1\n",
      "||u_h - u_exact||_L2 = 0.02896358955036486\n",
      "webgui discontinuous vis only for scalar functions a.t.m., switching to IfPos variant\n"
     ]
    },
    {
     "data": {
      "application/vnd.jupyter.widget-view+json": {
       "model_id": "10fc83f41d324c738def1eb406c5006e",
       "version_major": 2,
       "version_minor": 0
      },
      "text/plain": [
       "WebGuiWidget(layout=Layout(height='500px', width='100%'), value={'gui_settings': {}, 'ngsolve_version': '6.2.2…"
      ]
     },
     "metadata": {},
     "output_type": "display_data"
    },
    {
     "name": "stdout",
     "output_type": "stream",
     "text": [
      "0.05\n",
      "||u_h - u_exact||_L2 = 6.361737922408173e-05\n",
      "webgui discontinuous vis only for scalar functions a.t.m., switching to IfPos variant\n"
     ]
    },
    {
     "data": {
      "application/vnd.jupyter.widget-view+json": {
       "model_id": "b2c873177f6d413ab13fd3cff7dc6186",
       "version_major": 2,
       "version_minor": 0
      },
      "text/plain": [
       "WebGuiWidget(layout=Layout(height='500px', width='100%'), value={'gui_settings': {}, 'ngsolve_version': '6.2.2…"
      ]
     },
     "metadata": {},
     "output_type": "display_data"
    },
    {
     "name": "stdout",
     "output_type": "stream",
     "text": [
      "0.035\n",
      "||u_h - u_exact||_L2 = 1.0457295735121026e-06\n",
      "webgui discontinuous vis only for scalar functions a.t.m., switching to IfPos variant\n"
     ]
    },
    {
     "data": {
      "application/vnd.jupyter.widget-view+json": {
       "model_id": "3682454fbce64867be5a4ffa43bc7d8f",
       "version_major": 2,
       "version_minor": 0
      },
      "text/plain": [
       "WebGuiWidget(layout=Layout(height='500px', width='100%'), value={'gui_settings': {}, 'ngsolve_version': '6.2.2…"
      ]
     },
     "metadata": {},
     "output_type": "display_data"
    }
   ],
   "source": [
    "from ngsolve.webgui import Draw\n",
    "\n",
    "errors = []\n",
    "hs = []\n",
    "orders = []\n",
    "\n",
    "for maxh in [0.1,0.05,0.025]:\n",
    "    print(maxh)\n",
    "    for order in [3]:\n",
    "        # Stabilization parameter for ghost-penalty\n",
    "        gamma_stab = 100\n",
    "        # Stabilization parameter for Nitsche\n",
    "        lambda_nitsche = 10 * order * order\n",
    "\n",
    "        beta0 =10 * order**2\n",
    "        beta1 = 1\n",
    "        beta2 = 10 * order**2\n",
    "        beta3 = 1\n",
    "        square = SplineGeometry()\n",
    "        square.AddRectangle((-1.25, -1.25), (1.25, 1.25), bc=1)\n",
    "        ngmesh = square.GenerateMesh(maxh=maxh)\n",
    "        mesh = Mesh(ngmesh)\n",
    "        #lsetp1.Set(levelset)\n",
    "\n",
    "        lsetmeshadap = LevelSetMeshAdaptation(mesh, order=order, threshold=0.1,discontinuous_qn=True)# Higher order level set approximation \n",
    "        deformation = lsetmeshadap.CalcDeformation(levelset)\n",
    "\n",
    "        lsetp1 = GridFunction(H1(mesh,order=1,autoupdate=True),autoupdate=True)\n",
    "        InterpolateToP1(levelset,lsetp1)# Element, facet and dof marking w.r.t. boundary approximation with lsetp1:\n",
    "        #Draw(lsetp1, mesh, f\"levelset_maxh{maxh}\")\n",
    "        #DrawDC(lsetp1,uexact, CF((0,0)), mesh, \"uexact\")\n",
    "        ci = CutInfo(mesh, lsetp1)\n",
    "        hasneg = ci.GetElementsOfType(HASNEG)\n",
    "        neg = ci.GetElementsOfType(NEG)\n",
    "        hasif = ci.GetElementsOfType(IF)\n",
    "        haspos = ci.GetElementsOfType(HASPOS)\n",
    "        ba_facets = GetFacetsWithNeighborTypes(mesh, a=haspos, b=any)\n",
    "        patch_elements = ci.GetElementsOfType(ANY)\n",
    "        #cut_elements = ci.GetElementsOfType(HASIF)  \n",
    "\n",
    "\n",
    "        interior_facets = GetFacetsWithNeighborTypes(mesh, a=neg, b=neg)\n",
    "        interface_facet_set = GetFacetsWithNeighborTypes(mesh, a=hasif, b=hasneg)\n",
    "        stable_elem =GetFacetsWithNeighborTypes(mesh,a = hasif, b= patch_elements)\n",
    "\n",
    "        \n",
    "        h = specialcf.mesh_size\n",
    "        n = Normalize(grad(lsetp1))\n",
    "        nF= specialcf.normal(mesh.dim)\n",
    "\n",
    "        # integration domains:\n",
    "        dX = dCut(lsetp1, NEG, definedonelements=hasneg,deformation=deformation)\n",
    "        ds = dCut(lsetp1, IF, definedonelements=hasif,deformation=deformation)\n",
    "\n",
    "        dw = dFacetPatch(definedonelements=ba_facets, deformation=deformation)\n",
    "        dw_int = dFacetPatch(definedonelements=interior_facets,deformation=deformation)\n",
    "        dw_interface = dFacetPatch(definedonelements=interface_facet_set, deformation=deformation)\n",
    "        \n",
    "        GP_facets = GetFacetsWithNeighborTypes(mesh, a=hasif, b=hasneg, use_and=True)\n",
    "        hasneg_facets = GetFacetsWithNeighborTypes(mesh, a=hasneg, b=hasneg, use_and=True)\n",
    "        test_elem =GetElementsWithNeighborFacets(mesh,GP_facets)\n",
    "        #def get_surrounding_elements(elements,iter=1 ):\n",
    "        #    for i in range(2*iter):\n",
    "        #        ba_facets = GetFacetsWithNeighborTypes(mesh, a=elements, b=elements, use_and=False, bnd_val_a= False,bnd_val_b=False)\n",
    "\n",
    "        #        ci_elements = GetElementsWithNeighborFacets(mesh, ba_facets)\n",
    "        #    return ci_elements\n",
    "\n",
    "        #Draw(BitArrayCF(get_surrounding_elements(test_elem)),mesh)\n",
    "        d_stable_GP = dx(definedonelements = test_elem, deformation = deformation,skeleton = True)\n",
    "        ds_inner_facets = dCut(lsetp1, NEG, definedonelements=hasneg_facets,deformation=deformation, skeleton=True)\n",
    "        \n",
    "        #ds_stable_facets = dx(definedonelements = stable_elem, deformation = deformation, skeleton = True)\n",
    "        V = VectorH1(mesh, order=order,dgjumps=True)\n",
    "        V = Compress(V, GetDofsOfElements(V,hasneg))\n",
    "        Q = L2(mesh, order=order-1)\n",
    "        Q = Compress(Q, GetDofsOfElements(Q,hasneg))\n",
    "        Z = NumberSpace(mesh)\n",
    "        X = V*Q*Z\n",
    "        (u,p,z),(v,q,y) = X.TnT()\n",
    "        gfu = GridFunction(X)\n",
    "\n",
    "        def jump(f):\n",
    "            return f - f.Other()\n",
    "        def jumpn(f):\n",
    "            return Grad(f)*n - Grad(f).Other()*n\n",
    "        def jumpnF(f):\n",
    "            return Grad(f)*nF - Grad(f).Other()*nF\n",
    "\n",
    "        a = BilinearForm(X)\n",
    "        stokes = InnerProduct(Grad(u), Grad(v))*dX - div(u)*q*dX - div(v)*p*dX\n",
    "        a += stokes\n",
    "        a += -(Grad(u)*n * v + Grad(v)*n * u) * ds + gamma_stab / h * u * v * ds #nitzshe stabilization\n",
    "        a += (q*n * u + p*n * v) * ds\n",
    "        a += p*y *dX + q *z*dX\n",
    "        a += beta2*h*jumpnF(u) * jumpnF(v) * d_stable_GP #velocity ghost penalty\n",
    "        a += -beta0*h * jump(p) * jump(q) * d_stable_GP #pressure ghost penalty\n",
    "        a += beta0* jump(p)*jump(q) * ds_inner_facets #c-term\n",
    "        #a += beta2* InnerProduct(jump(Grad(u)), jump(Grad(v))) * dw_interface #velocity ghost penalty\n",
    "        #a += -beta0 * InnerProduct(jump(p), jump(q)) * dw_interface #pressure ghost penalty\n",
    "\n",
    "        #a += beta2* InnerProduct(jump(Grad(u)), jump(Grad(v))) * dw_interface\n",
    "        a.Assemble()\n",
    "\n",
    "        rhs = LinearForm(X)  # oder f*v*dx mit f gegeben\n",
    "        rhs += InnerProduct(f, v)* dX\n",
    "        rhs += -(Grad(v)*n * uexact) * ds + gamma_stab / h * uexact * v * ds+q*n*uexact *ds\n",
    "        rhs.Assemble()\n",
    "        gfu.vec.data = a.mat.Inverse(X.FreeDofs()) * rhs.vec\n",
    "        \n",
    "        error_u = sqrt(Integrate( (gfu.components[0] - uexact) ** 2*dX, mesh ))\n",
    "        print(\"||u_h - u_exact||_L2 =\", error_u)\n",
    "        #error_p = sqrt(Integrate( (gfu.components[1] - pexact) ** 2*dx, mesh ))\n",
    "        #print(\"||p_h - p_exact||_L2 =\", error_p ,\"order=\", order, \"maxh=\", maxh)\n",
    "\n",
    "        #l2error.append(sqrt(Integrate((gfu - exact)**2*dx, mesh)))\n",
    "        #Draw(gfu.components[0], mesh, \"u\")\n",
    "        #DrawDC(lsetp1,gfu.components[0], CF((0,0)), mesh, \"u\")\n",
    "        #Draw(gfu.components[1], mesh, \"p\")\n",
    "\n",
    "        DrawDC(lsetp1,gfu.components[0], CF((0,0)), mesh, \"u\")\n",
    "        #DrawDC(lsetp1,gfu.components[1], 0, mesh, \"p\")\n",
    "        errors.append(error_u)\n",
    "        hs.append(maxh)\n",
    "        orders.append(order)\n",
    "        \n",
    "\n"
   ]
  }
 ],
 "metadata": {
  "kernelspec": {
   "display_name": "Python 3",
   "language": "python",
   "name": "python3"
  },
  "language_info": {
   "codemirror_mode": {
    "name": "ipython",
    "version": 3
   },
   "file_extension": ".py",
   "mimetype": "text/x-python",
   "name": "python",
   "nbconvert_exporter": "python",
   "pygments_lexer": "ipython3",
   "version": "3.13.2"
  }
 },
 "nbformat": 4,
 "nbformat_minor": 5
}
