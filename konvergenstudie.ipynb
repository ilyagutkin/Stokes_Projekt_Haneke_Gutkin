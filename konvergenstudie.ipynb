{
 "cells": [
  {
   "cell_type": "code",
   "execution_count": 22,
   "id": "e021e81d",
   "metadata": {},
   "outputs": [],
   "source": [
    "from netgen.geom2d import SplineGeometry\n",
    "from ngsolve import *\n",
    "from ngsolve.internal import *\n",
    "import ngsolve\n",
    "from xfem import *"
   ]
  },
  {
   "cell_type": "code",
   "execution_count": 23,
   "id": "daa7a07b",
   "metadata": {},
   "outputs": [],
   "source": [
    "from ngsolve import *\n",
    "from math import pi\n",
    "\n",
    "# Analytische Geschwindigkeit (als GridFunction oder CoefficientFunction)\n",
    "uexact = CoefficientFunction((\n",
    "    sin(pi*x) * cos(pi*y),   # u(x,y)\n",
    "    -cos(pi*x) * sin(pi*y)   # v(x,y)\n",
    "))\n",
    "pexact = sin(pi*x) * sin(pi*y)\n",
    "# Laplace von uexact (Komponentenweise)\n",
    "lapu_x = -pi**2 * sin(pi*x) * cos(pi*y) * 2\n",
    "lapu_y = -pi**2 * (-cos(pi*x) * sin(pi*y)) * 2  # Minuszeichen kommt von v\n",
    "\n",
    "# Gradient von p\n",
    "dp_dx = pi * cos(pi*x) * sin(pi*y)\n",
    "dp_dy = pi * sin(pi*x) * cos(pi*y)\n",
    "\n",
    "# Gesamte rechte Seite f = -Δu + ∇p\n",
    "f = CoefficientFunction((\n",
    "    -lapu_x + dp_dx,\n",
    "    -lapu_y + dp_dy\n",
    "))\n",
    "r = sqrt(x**2 + y**2)\n",
    "levelset = r - 1\n",
    "#f= CF((0,x))\n",
    "\n",
    "#uexact = CoefficientFunction((    -r * (1 - r**2) * y, r * (1 - r**2) * x))\n",
    "\n",
    "# Analytischer Druck\n",
    "#pexact = (r + 3 - 15 * r**2) * y\n"
   ]
  },
  {
   "cell_type": "code",
   "execution_count": 24,
   "id": "cfa22049",
   "metadata": {},
   "outputs": [
    {
     "name": "stdout",
     "output_type": "stream",
     "text": [
      "<class 'ngsolve.comp.GridFunction'> <class 'ngsolve.fem.CoefficientFunction'>\n",
      "||u_h - u_exact||_L2 = 0.953766410856825\n",
      "||u_h - p_exact||_L2 = 5.331978459916227 order= 1 maxh= 0.4\n",
      "webgui discontinuous vis only for scalar functions a.t.m., switching to IfPos variant\n"
     ]
    },
    {
     "data": {
      "application/vnd.jupyter.widget-view+json": {
       "model_id": "fa7bacde03c6461a9b73fa510d3f8cf8",
       "version_major": 2,
       "version_minor": 0
      },
      "text/plain": [
       "WebGuiWidget(layout=Layout(height='500px', width='100%'), value={'gui_settings': {}, 'ngsolve_version': '6.2.2…"
      ]
     },
     "metadata": {},
     "output_type": "display_data"
    },
    {
     "data": {
      "application/vnd.jupyter.widget-view+json": {
       "model_id": "2cc1a010217d4e69b627e54d53701c8b",
       "version_major": 2,
       "version_minor": 0
      },
      "text/plain": [
       "WebGuiWidget(layout=Layout(height='500px', width='100%'), value={'gui_settings': {}, 'ngsolve_version': '6.2.2…"
      ]
     },
     "metadata": {},
     "output_type": "display_data"
    },
    {
     "name": "stdout",
     "output_type": "stream",
     "text": [
      "<class 'ngsolve.comp.GridFunction'> <class 'ngsolve.fem.CoefficientFunction'>\n",
      "||u_h - u_exact||_L2 = 0.9305958599032723\n",
      "||u_h - p_exact||_L2 = 5.812329923085734 order= 2 maxh= 0.4\n",
      "webgui discontinuous vis only for scalar functions a.t.m., switching to IfPos variant\n"
     ]
    },
    {
     "data": {
      "application/vnd.jupyter.widget-view+json": {
       "model_id": "a36075b29d8f4b1c85c0dccbac6fbff2",
       "version_major": 2,
       "version_minor": 0
      },
      "text/plain": [
       "WebGuiWidget(layout=Layout(height='500px', width='100%'), value={'gui_settings': {}, 'ngsolve_version': '6.2.2…"
      ]
     },
     "metadata": {},
     "output_type": "display_data"
    },
    {
     "data": {
      "application/vnd.jupyter.widget-view+json": {
       "model_id": "ec421f3905dd4baf81eabf559de73a4a",
       "version_major": 2,
       "version_minor": 0
      },
      "text/plain": [
       "WebGuiWidget(layout=Layout(height='500px', width='100%'), value={'gui_settings': {}, 'ngsolve_version': '6.2.2…"
      ]
     },
     "metadata": {},
     "output_type": "display_data"
    },
    {
     "name": "stdout",
     "output_type": "stream",
     "text": [
      "<class 'ngsolve.comp.GridFunction'> <class 'ngsolve.fem.CoefficientFunction'>\n",
      "||u_h - u_exact||_L2 = 1.7079810663472423\n",
      "||u_h - p_exact||_L2 = 17.451071843353684 order= 3 maxh= 0.4\n",
      "webgui discontinuous vis only for scalar functions a.t.m., switching to IfPos variant\n"
     ]
    },
    {
     "data": {
      "application/vnd.jupyter.widget-view+json": {
       "model_id": "604fa2a657b240a48a86089782f69945",
       "version_major": 2,
       "version_minor": 0
      },
      "text/plain": [
       "WebGuiWidget(layout=Layout(height='500px', width='100%'), value={'gui_settings': {}, 'ngsolve_version': '6.2.2…"
      ]
     },
     "metadata": {},
     "output_type": "display_data"
    },
    {
     "data": {
      "application/vnd.jupyter.widget-view+json": {
       "model_id": "ab1d8e509a1146b4b0d1f418db90438d",
       "version_major": 2,
       "version_minor": 0
      },
      "text/plain": [
       "WebGuiWidget(layout=Layout(height='500px', width='100%'), value={'gui_settings': {}, 'ngsolve_version': '6.2.2…"
      ]
     },
     "metadata": {},
     "output_type": "display_data"
    },
    {
     "name": "stdout",
     "output_type": "stream",
     "text": [
      "<class 'ngsolve.comp.GridFunction'> <class 'ngsolve.fem.CoefficientFunction'>\n",
      "||u_h - u_exact||_L2 = 0.9097266606327045\n",
      "||u_h - p_exact||_L2 = 17.034012931080362 order= 1 maxh= 0.2\n",
      "webgui discontinuous vis only for scalar functions a.t.m., switching to IfPos variant\n"
     ]
    },
    {
     "data": {
      "application/vnd.jupyter.widget-view+json": {
       "model_id": "f82a97e6d9f04c0e8c1aa6f7be5a81fb",
       "version_major": 2,
       "version_minor": 0
      },
      "text/plain": [
       "WebGuiWidget(layout=Layout(height='500px', width='100%'), value={'gui_settings': {}, 'ngsolve_version': '6.2.2…"
      ]
     },
     "metadata": {},
     "output_type": "display_data"
    },
    {
     "data": {
      "application/vnd.jupyter.widget-view+json": {
       "model_id": "c356fe3f0348451db941e4256a8da263",
       "version_major": 2,
       "version_minor": 0
      },
      "text/plain": [
       "WebGuiWidget(layout=Layout(height='500px', width='100%'), value={'gui_settings': {}, 'ngsolve_version': '6.2.2…"
      ]
     },
     "metadata": {},
     "output_type": "display_data"
    },
    {
     "name": "stdout",
     "output_type": "stream",
     "text": [
      "<class 'ngsolve.comp.GridFunction'> <class 'ngsolve.fem.CoefficientFunction'>\n",
      "||u_h - u_exact||_L2 = 1.0016008354828656\n",
      "||u_h - p_exact||_L2 = 10.170185761424985 order= 2 maxh= 0.2\n",
      "webgui discontinuous vis only for scalar functions a.t.m., switching to IfPos variant\n"
     ]
    },
    {
     "data": {
      "application/vnd.jupyter.widget-view+json": {
       "model_id": "fec7bf882eec43cabe8ede6c3ebe5432",
       "version_major": 2,
       "version_minor": 0
      },
      "text/plain": [
       "WebGuiWidget(layout=Layout(height='500px', width='100%'), value={'gui_settings': {}, 'ngsolve_version': '6.2.2…"
      ]
     },
     "metadata": {},
     "output_type": "display_data"
    },
    {
     "data": {
      "application/vnd.jupyter.widget-view+json": {
       "model_id": "8043f1008f9d40afbafe3bcecda0ec4d",
       "version_major": 2,
       "version_minor": 0
      },
      "text/plain": [
       "WebGuiWidget(layout=Layout(height='500px', width='100%'), value={'gui_settings': {}, 'ngsolve_version': '6.2.2…"
      ]
     },
     "metadata": {},
     "output_type": "display_data"
    },
    {
     "name": "stdout",
     "output_type": "stream",
     "text": [
      "<class 'ngsolve.comp.GridFunction'> <class 'ngsolve.fem.CoefficientFunction'>\n",
      "||u_h - u_exact||_L2 = 2.3136904672968384\n",
      "||u_h - p_exact||_L2 = 39.8929194084228 order= 3 maxh= 0.2\n",
      "webgui discontinuous vis only for scalar functions a.t.m., switching to IfPos variant\n"
     ]
    },
    {
     "data": {
      "application/vnd.jupyter.widget-view+json": {
       "model_id": "e478e4de55a4408888afc1a504aa6ba0",
       "version_major": 2,
       "version_minor": 0
      },
      "text/plain": [
       "WebGuiWidget(layout=Layout(height='500px', width='100%'), value={'gui_settings': {}, 'ngsolve_version': '6.2.2…"
      ]
     },
     "metadata": {},
     "output_type": "display_data"
    },
    {
     "data": {
      "application/vnd.jupyter.widget-view+json": {
       "model_id": "27f4f47d515942b19f5afbb57df84fa4",
       "version_major": 2,
       "version_minor": 0
      },
      "text/plain": [
       "WebGuiWidget(layout=Layout(height='500px', width='100%'), value={'gui_settings': {}, 'ngsolve_version': '6.2.2…"
      ]
     },
     "metadata": {},
     "output_type": "display_data"
    }
   ],
   "source": [
    "for maxh in [0.4,0.2]:\n",
    "    for order in [1, 2, 3]:\n",
    "        # Stabilization parameter for ghost-penalty\n",
    "        gamma_stab = 100\n",
    "        # Stabilization parameter for Nitsche\n",
    "        lambda_nitsche = 10 * order * order\n",
    "\n",
    "        beta0 =1\n",
    "        beta1 = 1\n",
    "        beta2 = 1\n",
    "        beta3 = 1\n",
    "        square = SplineGeometry()\n",
    "        square.AddRectangle((-1.25, -1.25), (1.25, 1.25), bc=1)\n",
    "        ngmesh = square.GenerateMesh(maxh=maxh)\n",
    "        mesh = Mesh(ngmesh)\n",
    "\n",
    "\n",
    "        lsetp1 = GridFunction(H1(mesh,order=1,autoupdate=True),autoupdate=True)\n",
    "        print(type(lsetp1),type(levelset))\n",
    "        #lsetp1.Set(levelset)\n",
    "\n",
    "        InterpolateToP1(levelset,lsetp1)# Element, facet and dof marking w.r.t. boundary approximation with lsetp1:\n",
    "        Draw(lsetp1, mesh, f\"levelset_maxh{maxh}\")\n",
    "        ci = CutInfo(mesh, lsetp1)\n",
    "        hasneg = ci.GetElementsOfType(HASNEG)\n",
    "        neg = ci.GetElementsOfType(NEG)\n",
    "        hasif = ci.GetElementsOfType(IF)\n",
    "        haspos = ci.GetElementsOfType(HASPOS)\n",
    "        ba_facets = GetFacetsWithNeighborTypes(mesh, a=haspos, b=any)\n",
    "        patch_elements = ci.GetElementsOfType(ANY)\n",
    "        #cut_elements = ci.GetElementsOfType(HASIF)  \n",
    "\n",
    "\n",
    "        interior_facets = GetFacetsWithNeighborTypes(mesh, a=neg, b=neg)\n",
    "        interface_facet_set = GetFacetsWithNeighborTypes(mesh, a=hasif, b=hasneg)\n",
    "        \n",
    "\n",
    "        \n",
    "        h = specialcf.mesh_size\n",
    "        n = Normalize(grad(lsetp1))\n",
    "\n",
    "        # integration domains:\n",
    "        dx = dCut(lsetp1, NEG, definedonelements=hasneg)\n",
    "        ds = dCut(lsetp1, IF, definedonelements=hasif)\n",
    "\n",
    "        dw = dFacetPatch(definedonelements=ba_facets)\n",
    "        dw_int = dFacetPatch(definedonelements=interior_facets)\n",
    "        dw_interface = dFacetPatch(definedonelements=interface_facet_set)\n",
    "        V = VectorH1(mesh, order=order,dgjumps=True)\n",
    "        V = Compress(V, GetDofsOfElements(V,hasneg))\n",
    "        Q = H1(mesh, order=order-1)\n",
    "        Q = Compress(Q, GetDofsOfElements(Q,hasneg))\n",
    "        Z = NumberSpace(mesh)\n",
    "        X = V*Q*Z\n",
    "        (u,p,z),(v,q,y) = X.TnT()\n",
    "        gfu = GridFunction(X)\n",
    "\n",
    "        def jump(f):\n",
    "            return f - f.Other()\n",
    "        def jumpn(f):\n",
    "            n = Normalize(grad(lsetp1))\n",
    "            return Grad(f)*n - Grad(f).Other()*n\n",
    "\n",
    "        a = BilinearForm(X)\n",
    "        stokes = InnerProduct(Grad(u), Grad(v))*dx + div(u)*q*dx + div(v)*p*dx\n",
    "        a += stokes\n",
    "        a += -(Grad(u)*n * v + Grad(v)*n * u) * ds + gamma_stab / h * u * v * ds #nitzshe stabilization\n",
    "        a += -(q*n * u + p*n * v) * ds\n",
    "        a += p*y *dx + q *z*dx\n",
    "        a += beta2* InnerProduct(jump(Grad(u)), jump(Grad(v))) * dw_interface #velocity ghost penalty\n",
    "        a += -beta0 * InnerProduct(jump(p), jump(q)) * dw_interface #velocity ghost penalty\n",
    "        #a += beta2/h* InnerProduct(Grad(u), Grad(v)) * ds #velocity ghost penalty\n",
    "        #a += SymbolicFacetBFI(beta2 / h * InnerProduct(jump(grad(u)), jump(grad(v)))*dx,element_boundary=True,definedon=interface_facet_set)\n",
    "        #a_vel = BilinearForm(V)\n",
    "        #a_vel += beta2 / h * InnerProduct(Grad(u), Grad(v)) * dw_interface\n",
    "        #a_vel.Assemble()\n",
    "\n",
    "        # Dann separat zur globalen Matrix addieren:\n",
    "        a.Assemble()\n",
    "        #a.mat += a_vel.mat\n",
    "\n",
    "        rhs = LinearForm(X)  # oder f*v*dx mit f gegeben\n",
    "        rhs += InnerProduct(f, v)* dx\n",
    "        rhs += -(Grad(v)*n * uexact) * ds + gamma_stab / h * uexact * v * ds\n",
    "        rhs.Assemble()\n",
    "\n",
    "        gfu.vec.data = a.mat.Inverse(X.FreeDofs()) * rhs.vec\n",
    "        error_u = sqrt(Integrate( (gfu.components[0] - uexact) ** 2, mesh ))\n",
    "        print(\"||u_h - u_exact||_L2 =\", error_u)\n",
    "        error_p = sqrt(Integrate( (gfu.components[1] - pexact) ** 2, mesh ))\n",
    "        print(\"||u_h - p_exact||_L2 =\", error_p ,\"order=\", order, \"maxh=\", maxh)\n",
    "\n",
    "        #l2error.append(sqrt(Integrate((gfu - exact)**2*dx, mesh)))\n",
    "        #Draw(gfu.components[0], mesh, \"u\")\n",
    "        #Draw(gfu.components[1], mesh, \"p\")\n",
    "\n",
    "        DrawDC(lsetp1,gfu.components[0], CF((0,0)), mesh, \"u\")\n",
    "        DrawDC(lsetp1,gfu.components[1], 0, mesh, \"p\")\n",
    "\n"
   ]
  }
 ],
 "metadata": {
  "kernelspec": {
   "display_name": "Python 3",
   "language": "python",
   "name": "python3"
  },
  "language_info": {
   "codemirror_mode": {
    "name": "ipython",
    "version": 3
   },
   "file_extension": ".py",
   "mimetype": "text/x-python",
   "name": "python",
   "nbconvert_exporter": "python",
   "pygments_lexer": "ipython3",
   "version": "3.8.10"
  }
 },
 "nbformat": 4,
 "nbformat_minor": 5
}
