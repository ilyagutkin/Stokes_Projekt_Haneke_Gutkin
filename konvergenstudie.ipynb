{
 "cells": [
  {
   "cell_type": "code",
   "execution_count": 1,
   "id": "e021e81d",
   "metadata": {},
   "outputs": [
    {
     "name": "stdout",
     "output_type": "stream",
     "text": [
      "importing ngsxfem-2.1.2405\n"
     ]
    }
   ],
   "source": [
    "from netgen.geom2d import SplineGeometry\n",
    "from ngsolve import *\n",
    "from ngsolve.internal import *\n",
    "import ngsolve\n",
    "from xfem import *"
   ]
  },
  {
   "cell_type": "code",
   "execution_count": null,
   "id": "daa7a07b",
   "metadata": {},
   "outputs": [
    {
     "ename": "",
     "evalue": "",
     "output_type": "error",
     "traceback": [
      "\u001b[1;31mThe Kernel crashed while executing code in the current cell or a previous cell. \n",
      "\u001b[1;31mPlease review the code in the cell(s) to identify a possible cause of the failure. \n",
      "\u001b[1;31mClick <a href='https://aka.ms/vscodeJupyterKernelCrash'>here</a> for more info. \n",
      "\u001b[1;31mView Jupyter <a href='command:jupyter.viewOutput'>log</a> for further details."
     ]
    }
   ],
   "source": [
    "from ngsolve import *\n",
    "from math import pi\n",
    "\n",
    "# Analytische Geschwindigkeit (als GridFunction oder CoefficientFunction)\n",
    "uexact = CoefficientFunction((\n",
    "    sin(pi*x) * cos(pi*y),   # u(x,y)\n",
    "    -cos(pi*x) * sin(pi*y)   # v(x,y)\n",
    "))\n",
    "pexact = sin(pi*x) * sin(pi*y)\n",
    "# Laplace von uexact (Komponentenweise)\n",
    "lapu_x = -pi**2 * sin(pi*x) * cos(pi*y) * 2\n",
    "lapu_y = -pi**2 * (-cos(pi*x) * sin(pi*y)) * 2  # Minuszeichen kommt von v\n",
    "\n",
    "# Gradient von p\n",
    "dp_dx = pi * cos(pi*x) * sin(pi*y)\n",
    "dp_dy = pi * sin(pi*x) * cos(pi*y)\n",
    "\n",
    "# Gesamte rechte Seite f = -Δu + ∇p\n",
    "f = CoefficientFunction((\n",
    "    -lapu_x + dp_dx,\n",
    "    -lapu_y + dp_dy\n",
    "))\n",
    "\n",
    "r = sqrt(x**2 + y**2)\n",
    "levelset = r - 1\n",
    "#f= CF((0,x))\n",
    "\n",
    "#uexact = CoefficientFunction((    -r * (1 - r**2) * y, r * (1 - r**2) * x))\n",
    "\n",
    "# Analytischer Druck\n",
    "#pexact = (r + 3 - 15 * r**2) * y\n",
    "u1 = -4*y * (1 - x**2 - y**2)\n",
    "u2 = 4*x*(1 - x**2 - y**2)\n",
    "uexact = CoefficientFunction((u1, u2))\n",
    "\n",
    "pexact = sin(x)*cos(y)\n",
    "\n",
    "# Laplace-Anteil\n",
    "lapu1 = 32*y\n",
    "lapu2 = -32*x\n",
    "\n",
    "\n",
    "# Gradient von p\n",
    "dpdx = cos(x) * cos(y)\n",
    "dpdy = -sin(x) * sin(y)\n",
    "\n",
    "f = CoefficientFunction((\n",
    "    -lapu1 + dpdx,\n",
    "    -lapu2 + dpdy\n",
    "))"
   ]
  },
  {
   "cell_type": "code",
   "execution_count": null,
   "id": "cfa22049",
   "metadata": {},
   "outputs": [
    {
     "name": "stdout",
     "output_type": "stream",
     "text": [
      "||u_h - u_exact||_L2 = 0.011505733534289552\n",
      "||u_h - p_exact||_L2 = 1.4982301181895392 order= 2 maxh= 0.1\n",
      "webgui discontinuous vis only for scalar functions a.t.m., switching to IfPos variant\n"
     ]
    },
    {
     "data": {
      "application/vnd.jupyter.widget-view+json": {
       "model_id": "fd3dc55985c34c5988347a4db3ecacc2",
       "version_major": 2,
       "version_minor": 0
      },
      "text/plain": [
       "WebGuiWidget(layout=Layout(height='500px', width='100%'), value={'gui_settings': {}, 'ngsolve_version': '6.2.2…"
      ]
     },
     "metadata": {},
     "output_type": "display_data"
    },
    {
     "data": {
      "application/vnd.jupyter.widget-view+json": {
       "model_id": "4ae8acc79a6441aa90fd831854e19fed",
       "version_major": 2,
       "version_minor": 0
      },
      "text/plain": [
       "WebGuiWidget(layout=Layout(height='500px', width='100%'), value={'gui_settings': {}, 'ngsolve_version': '6.2.2…"
      ]
     },
     "metadata": {},
     "output_type": "display_data"
    },
    {
     "name": "stdout",
     "output_type": "stream",
     "text": [
      "||u_h - u_exact||_L2 = 0.007711970019063784\n",
      "||u_h - p_exact||_L2 = 1.4985850886203986 order= 3 maxh= 0.1\n",
      "webgui discontinuous vis only for scalar functions a.t.m., switching to IfPos variant\n"
     ]
    },
    {
     "data": {
      "application/vnd.jupyter.widget-view+json": {
       "model_id": "43777a94e55f42ba9a5ea6d744e8b60c",
       "version_major": 2,
       "version_minor": 0
      },
      "text/plain": [
       "WebGuiWidget(layout=Layout(height='500px', width='100%'), value={'gui_settings': {}, 'ngsolve_version': '6.2.2…"
      ]
     },
     "metadata": {},
     "output_type": "display_data"
    },
    {
     "data": {
      "application/vnd.jupyter.widget-view+json": {
       "model_id": "d7d8c0cfb0d540209a3d555ffc828b13",
       "version_major": 2,
       "version_minor": 0
      },
      "text/plain": [
       "WebGuiWidget(layout=Layout(height='500px', width='100%'), value={'gui_settings': {}, 'ngsolve_version': '6.2.2…"
      ]
     },
     "metadata": {},
     "output_type": "display_data"
    },
    {
     "name": "stdout",
     "output_type": "stream",
     "text": [
      "||u_h - u_exact||_L2 = 0.007698304406258218\n",
      "||u_h - p_exact||_L2 = 1.4986848261680767 order= 4 maxh= 0.1\n",
      "webgui discontinuous vis only for scalar functions a.t.m., switching to IfPos variant\n"
     ]
    },
    {
     "data": {
      "application/vnd.jupyter.widget-view+json": {
       "model_id": "f3418cc546224141b5844e730b0c6087",
       "version_major": 2,
       "version_minor": 0
      },
      "text/plain": [
       "WebGuiWidget(layout=Layout(height='500px', width='100%'), value={'gui_settings': {}, 'ngsolve_version': '6.2.2…"
      ]
     },
     "metadata": {},
     "output_type": "display_data"
    },
    {
     "data": {
      "application/vnd.jupyter.widget-view+json": {
       "model_id": "4aac71e8ee0042adab658bfbabcfef60",
       "version_major": 2,
       "version_minor": 0
      },
      "text/plain": [
       "WebGuiWidget(layout=Layout(height='500px', width='100%'), value={'gui_settings': {}, 'ngsolve_version': '6.2.2…"
      ]
     },
     "metadata": {},
     "output_type": "display_data"
    },
    {
     "name": "stdout",
     "output_type": "stream",
     "text": [
      "||u_h - u_exact||_L2 = 0.0019049134286974923\n",
      "||u_h - p_exact||_L2 = 1.500298086846187 order= 2 maxh= 0.05\n",
      "webgui discontinuous vis only for scalar functions a.t.m., switching to IfPos variant\n"
     ]
    },
    {
     "data": {
      "application/vnd.jupyter.widget-view+json": {
       "model_id": "aed85061fb8242ee9a3fc75d27a2d1b3",
       "version_major": 2,
       "version_minor": 0
      },
      "text/plain": [
       "WebGuiWidget(layout=Layout(height='500px', width='100%'), value={'gui_settings': {}, 'ngsolve_version': '6.2.2…"
      ]
     },
     "metadata": {},
     "output_type": "display_data"
    },
    {
     "data": {
      "application/vnd.jupyter.widget-view+json": {
       "model_id": "12b9ca09fc8b4899b032f223b8c74678",
       "version_major": 2,
       "version_minor": 0
      },
      "text/plain": [
       "WebGuiWidget(layout=Layout(height='500px', width='100%'), value={'gui_settings': {}, 'ngsolve_version': '6.2.2…"
      ]
     },
     "metadata": {},
     "output_type": "display_data"
    },
    {
     "name": "stdout",
     "output_type": "stream",
     "text": [
      "||u_h - u_exact||_L2 = 0.0017596211903836353\n",
      "||u_h - p_exact||_L2 = 1.5003708514152694 order= 3 maxh= 0.05\n",
      "webgui discontinuous vis only for scalar functions a.t.m., switching to IfPos variant\n"
     ]
    },
    {
     "data": {
      "application/vnd.jupyter.widget-view+json": {
       "model_id": "0a1fae86e3114db68613098cb4534efb",
       "version_major": 2,
       "version_minor": 0
      },
      "text/plain": [
       "WebGuiWidget(layout=Layout(height='500px', width='100%'), value={'gui_settings': {}, 'ngsolve_version': '6.2.2…"
      ]
     },
     "metadata": {},
     "output_type": "display_data"
    },
    {
     "data": {
      "application/vnd.jupyter.widget-view+json": {
       "model_id": "f9f9e5b3710f4e4ab613b4f9e6f2db76",
       "version_major": 2,
       "version_minor": 0
      },
      "text/plain": [
       "WebGuiWidget(layout=Layout(height='500px', width='100%'), value={'gui_settings': {}, 'ngsolve_version': '6.2.2…"
      ]
     },
     "metadata": {},
     "output_type": "display_data"
    },
    {
     "name": "stdout",
     "output_type": "stream",
     "text": [
      "||u_h - u_exact||_L2 = 0.001757957405710324\n",
      "||u_h - p_exact||_L2 = 1.5003721302059505 order= 4 maxh= 0.05\n",
      "webgui discontinuous vis only for scalar functions a.t.m., switching to IfPos variant\n"
     ]
    },
    {
     "data": {
      "application/vnd.jupyter.widget-view+json": {
       "model_id": "cf9f6eec451943c3b6211a87d1cd8c04",
       "version_major": 2,
       "version_minor": 0
      },
      "text/plain": [
       "WebGuiWidget(layout=Layout(height='500px', width='100%'), value={'gui_settings': {}, 'ngsolve_version': '6.2.2…"
      ]
     },
     "metadata": {},
     "output_type": "display_data"
    },
    {
     "data": {
      "application/vnd.jupyter.widget-view+json": {
       "model_id": "c332af75753646ceab797fc9e48684c6",
       "version_major": 2,
       "version_minor": 0
      },
      "text/plain": [
       "WebGuiWidget(layout=Layout(height='500px', width='100%'), value={'gui_settings': {}, 'ngsolve_version': '6.2.2…"
      ]
     },
     "metadata": {},
     "output_type": "display_data"
    },
    {
     "name": "stdout",
     "output_type": "stream",
     "text": [
      "||u_h - u_exact||_L2 = 0.0004053420230973455\n",
      "||u_h - p_exact||_L2 = 1.5007040371406424 order= 2 maxh= 0.025\n",
      "webgui discontinuous vis only for scalar functions a.t.m., switching to IfPos variant\n"
     ]
    },
    {
     "data": {
      "application/vnd.jupyter.widget-view+json": {
       "model_id": "dba5fca7e6f04fc7b388709452e8600e",
       "version_major": 2,
       "version_minor": 0
      },
      "text/plain": [
       "WebGuiWidget(layout=Layout(height='500px', width='100%'), value={'gui_settings': {}, 'ngsolve_version': '6.2.2…"
      ]
     },
     "metadata": {},
     "output_type": "display_data"
    },
    {
     "data": {
      "application/vnd.jupyter.widget-view+json": {
       "model_id": "9bc2ccced2a6498aa5301ea5a8342e85",
       "version_major": 2,
       "version_minor": 0
      },
      "text/plain": [
       "WebGuiWidget(layout=Layout(height='500px', width='100%'), value={'gui_settings': {}, 'ngsolve_version': '6.2.2…"
      ]
     },
     "metadata": {},
     "output_type": "display_data"
    },
    {
     "name": "stdout",
     "output_type": "stream",
     "text": [
      "||u_h - u_exact||_L2 = 0.00040076274506757294\n",
      "||u_h - p_exact||_L2 = 1.5007229450885418 order= 3 maxh= 0.025\n",
      "webgui discontinuous vis only for scalar functions a.t.m., switching to IfPos variant\n"
     ]
    },
    {
     "data": {
      "application/vnd.jupyter.widget-view+json": {
       "model_id": "ab00ac9a4a234a76a5fd23c4d4a0fdc0",
       "version_major": 2,
       "version_minor": 0
      },
      "text/plain": [
       "WebGuiWidget(layout=Layout(height='500px', width='100%'), value={'gui_settings': {}, 'ngsolve_version': '6.2.2…"
      ]
     },
     "metadata": {},
     "output_type": "display_data"
    },
    {
     "data": {
      "application/vnd.jupyter.widget-view+json": {
       "model_id": "9f10b1da89f949b9b9b2515df9e89103",
       "version_major": 2,
       "version_minor": 0
      },
      "text/plain": [
       "WebGuiWidget(layout=Layout(height='500px', width='100%'), value={'gui_settings': {}, 'ngsolve_version': '6.2.2…"
      ]
     },
     "metadata": {},
     "output_type": "display_data"
    }
   ],
   "source": [
    "for maxh in [0.1,0.05,0.025]:\n",
    "    for order in [ 2, 3,4]:\n",
    "        # Stabilization parameter for ghost-penalty\n",
    "        gamma_stab = 100\n",
    "        # Stabilization parameter for Nitsche\n",
    "        lambda_nitsche = 10 * order * order\n",
    "\n",
    "        beta0 =10 * order**2\n",
    "        beta1 = 1\n",
    "        beta2 = 10 * order**2\n",
    "        beta3 = 1\n",
    "        square = SplineGeometry()\n",
    "        square.AddRectangle((-1.25, -1.25), (1.25, 1.25), bc=1)\n",
    "        ngmesh = square.GenerateMesh(maxh=maxh)\n",
    "        mesh = Mesh(ngmesh)\n",
    "        #lsetp1.Set(levelset)\n",
    "        lsetp1 = GridFunction(H1(mesh,order=1,autoupdate=True),autoupdate=True)\n",
    "        InterpolateToP1(levelset,lsetp1)# Element, facet and dof marking w.r.t. boundary approximation with lsetp1:\n",
    "        Draw(lsetp1, mesh, f\"levelset_maxh{maxh}\")\n",
    "        ci = CutInfo(mesh, lsetp1)\n",
    "        hasneg = ci.GetElementsOfType(HASNEG)\n",
    "        neg = ci.GetElementsOfType(NEG)\n",
    "        hasif = ci.GetElementsOfType(IF)\n",
    "        haspos = ci.GetElementsOfType(HASPOS)\n",
    "        ba_facets = GetFacetsWithNeighborTypes(mesh, a=haspos, b=any)\n",
    "        patch_elements = ci.GetElementsOfType(ANY)\n",
    "        #cut_elements = ci.GetElementsOfType(HASIF)  \n",
    "\n",
    "\n",
    "        interior_facets = GetFacetsWithNeighborTypes(mesh, a=neg, b=neg)\n",
    "        interface_facet_set = GetFacetsWithNeighborTypes(mesh, a=hasif, b=hasneg)\n",
    "        \n",
    "\n",
    "        \n",
    "        h = specialcf.mesh_size\n",
    "        n = Normalize(grad(lsetp1))\n",
    "\n",
    "        # integration domains:\n",
    "        dx = dCut(lsetp1, NEG, definedonelements=hasneg)\n",
    "        ds = dCut(lsetp1, IF, definedonelements=hasif)\n",
    "\n",
    "        dw = dFacetPatch(definedonelements=ba_facets)\n",
    "        dw_int = dFacetPatch(definedonelements=interior_facets)\n",
    "        dw_interface = dFacetPatch(definedonelements=interface_facet_set)\n",
    "        V = VectorH1(mesh, order=order,dgjumps=True)\n",
    "        V = Compress(V, GetDofsOfElements(V,hasneg))\n",
    "        Q = H1(mesh, order=order-1)\n",
    "        Q = Compress(Q, GetDofsOfElements(Q,hasneg))\n",
    "        Z = NumberSpace(mesh)\n",
    "        X = V*Q*Z\n",
    "        (u,p,z),(v,q,y) = X.TnT()\n",
    "        gfu = GridFunction(X)\n",
    "\n",
    "        def jump(f):\n",
    "            return f - f.Other()\n",
    "        def jumpn(f):\n",
    "            n = Normalize(grad(lsetp1))\n",
    "            return Grad(f)*n - Grad(f).Other()*n\n",
    "\n",
    "        a = BilinearForm(X)\n",
    "        stokes = InnerProduct(Grad(u), Grad(v))*dx + div(u)*q*dx + div(v)*p*dx\n",
    "        a += stokes\n",
    "        a += -(Grad(u)*n * v + Grad(v)*n * u) * ds + gamma_stab / h * u * v * ds #nitzshe stabilization\n",
    "        a += -(q*n * u + p*n * v) * ds\n",
    "        a += p*y *dx + q *z*dx\n",
    "        a += beta2* InnerProduct(jump(Grad(u)), jump(Grad(v))) * dw_interface #velocity ghost penalty\n",
    "        a += -beta0 * InnerProduct(jump(p), jump(q)) * dw_interface #pressure ghost penalty\n",
    "        a.Assemble()\n",
    "\n",
    "        rhs = LinearForm(X)  # oder f*v*dx mit f gegeben\n",
    "        rhs += InnerProduct(f, v)* dx\n",
    "        #rhs += -(Grad(v)*n * uexact) * ds + gamma_stab / h * uexact * v * ds+q*n*uexact *ds\n",
    "        rhs.Assemble()\n",
    "        gfu.vec.data = a.mat.Inverse(X.FreeDofs()) * rhs.vec\n",
    "        \n",
    "        error_u = sqrt(Integrate( (gfu.components[0] - uexact) ** 2*dx, mesh ))\n",
    "        print(\"||u_h - u_exact||_L2 =\", error_u)\n",
    "        error_p = sqrt(Integrate( (gfu.components[1] - pexact) ** 2*dx, mesh ))\n",
    "        print(\"||u_h - p_exact||_L2 =\", error_p ,\"order=\", order, \"maxh=\", maxh)\n",
    "\n",
    "        #l2error.append(sqrt(Integrate((gfu - exact)**2*dx, mesh)))\n",
    "        #Draw(gfu.components[0], mesh, \"u\")\n",
    "        #Draw(gfu.components[1], mesh, \"p\")\n",
    "\n",
    "        DrawDC(lsetp1,gfu.components[0], CF((0,0)), mesh, \"u\")\n",
    "        DrawDC(lsetp1,gfu.components[1], 0, mesh, \"p\")\n",
    "\n"
   ]
  }
 ],
 "metadata": {
  "kernelspec": {
   "display_name": "Python 3",
   "language": "python",
   "name": "python3"
  },
  "language_info": {
   "codemirror_mode": {
    "name": "ipython",
    "version": 3
   },
   "file_extension": ".py",
   "mimetype": "text/x-python",
   "name": "python",
   "nbconvert_exporter": "python",
   "pygments_lexer": "ipython3",
   "version": "3.8.10"
  }
 },
 "nbformat": 4,
 "nbformat_minor": 5
}
