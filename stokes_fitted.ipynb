{
 "cells": [
  {
   "cell_type": "code",
   "execution_count": null,
   "id": "abea391b",
   "metadata": {},
   "outputs": [
    {
     "data": {
      "application/vnd.jupyter.widget-view+json": {
       "model_id": "d89e1c53fe294d8ca7c6d720bc719b84",
       "version_major": 2,
       "version_minor": 0
      },
      "text/plain": [
       "WebGuiWidget(layout=Layout(height='500px', width='100%'), value={'gui_settings': {}, 'ngsolve_version': '6.2.2…"
      ]
     },
     "metadata": {},
     "output_type": "display_data"
    },
    {
     "data": {
      "application/vnd.jupyter.widget-view+json": {
       "model_id": "17d38e446bf34635a28efe20057ab9a6",
       "version_major": 2,
       "version_minor": 0
      },
      "text/plain": [
       "WebGuiWidget(layout=Layout(height='500px', width='100%'), value={'gui_settings': {}, 'ngsolve_version': '6.2.2…"
      ]
     },
     "metadata": {},
     "output_type": "display_data"
    },
    {
     "name": "stdout",
     "output_type": "stream",
     "text": [
      "L2 error u: 7.086404303017299e-05\n",
      "L2 error p: 1.9358488832160017\n"
     ]
    },
    {
     "data": {
      "application/vnd.jupyter.widget-view+json": {
       "model_id": "2d8fdd5f6dd94c55ae17f58fed158621",
       "version_major": 2,
       "version_minor": 0
      },
      "text/plain": [
       "WebGuiWidget(layout=Layout(height='500px', width='100%'), value={'gui_settings': {}, 'ngsolve_version': '6.2.2…"
      ]
     },
     "metadata": {},
     "output_type": "display_data"
    },
    {
     "data": {
      "application/vnd.jupyter.widget-view+json": {
       "model_id": "94dda2530562458698b9b8c121080cd6",
       "version_major": 2,
       "version_minor": 0
      },
      "text/plain": [
       "WebGuiWidget(layout=Layout(height='500px', width='100%'), value={'gui_settings': {}, 'ngsolve_version': '6.2.2…"
      ]
     },
     "metadata": {},
     "output_type": "display_data"
    },
    {
     "data": {
      "text/plain": [
       "BaseWebGuiScene"
      ]
     },
     "execution_count": 2,
     "metadata": {},
     "output_type": "execute_result"
    }
   ],
   "source": [
    "from netgen.geom2d import SplineGeometry, unit_square\n",
    "from ngsolve import *\n",
    "from ngsolve.webgui import Draw\n",
    "import ngsolve\n",
    "from math import pi\n",
    "geo = SplineGeometry()\n",
    "geo.AddCircle(c=(0,0), r=1.0, bc=\"wall\", maxh=0.1)\n",
    "mesh = Mesh(geo.GenerateMesh())\n",
    "mesh.Refine()\n",
    "#mesh = Mesh(unit_square.GenerateMesh(maxh=0.05))\n",
    "\n",
    "\n",
    "# Analytische Geschwindigkeit (als GridFunction oder CoefficientFunction)\n",
    "uexact = CoefficientFunction((\n",
    "    sin(pi*x) * cos(pi*y),   # u(x,y)\n",
    "    -cos(pi*x) * sin(pi*y)   # v(x,y)\n",
    "))\n",
    "pexact = sin(pi*x) * sin(pi*y)\n",
    "# Laplace von uexact (Komponentenweise)\n",
    "lapu_x = -pi**2 * sin(pi*x) * cos(pi*y) * 2\n",
    "lapu_y = -pi**2 * (-cos(pi*x) * sin(pi*y)) * 2  # Minuszeichen kommt von v\n",
    "\n",
    "# Gradient von p\n",
    "dp_dx = pi * cos(pi*x) * sin(pi*y)\n",
    "dp_dy = pi * sin(pi*x) * cos(pi*y)\n",
    "\n",
    "# Gesamte rechte Seite f = -Δu + ∇p\n",
    "f1 = CoefficientFunction((\n",
    "    -lapu_x + dp_dx,\n",
    "    -lapu_y + dp_dy\n",
    "))\n",
    "\n",
    "Draw(mesh)\n",
    "\n",
    "order =3\n",
    "\n",
    "# Taylor-Hood Spaces (P2 für u, P1 für p)\n",
    "#V = VectorH1(mesh, order=order)  # Geschwindigkeit\n",
    "V = VectorH1(mesh, order=order, dirichlet = \"wall\") # Geschwindigkeit\n",
    "Q = H1(mesh, order = order-1)                        # Druck\n",
    "M = NumberSpace(mesh) \n",
    "X = V*Q*M\n",
    "\n",
    "# Funktionen definieren\n",
    "(u, p ,l) = X.TrialFunction()\n",
    "(v, q, n) = X.TestFunction()\n",
    "\n",
    "nu = 1.0  # Viskosität\n",
    "f = LinearForm(X)\n",
    "f += f1*v*dx\n",
    "#f +=  CoefficientFunction((0,x)) * v *dx\n",
    "#f.Assemble()\n",
    "# Bilinearform: schwache Formulierung\n",
    "a = BilinearForm(X, symmetric=False)\n",
    "a += nu * InnerProduct(grad(u), grad(v))*dx\n",
    "a += div(v)*p*dx\n",
    "a += div(u)*q*dx\n",
    "a += (p*n + q*l) *dx\n",
    "\n",
    "a.Assemble()\n",
    "f.Assemble()\n",
    "\n",
    "# Lösung\n",
    "gfu = GridFunction(X)\n",
    "gfu.components[0].Set(uexact, definedon=mesh.Boundaries(\"wall\"))\n",
    "Draw(gfu.components[0], mesh, \"velocity\")\n",
    "f.vec.data -= a.mat * gfu.vec\n",
    "gfu.vec.data += a.mat.Inverse(X.FreeDofs()) * f.vec\n",
    "#solvers.BVP(bf=a, lf=f, gf=gfu)\n",
    "\n",
    "#print(\"L2 error u:\", sqrt(Integrate((gfu.components[0] - uexact)**2 , (gfu.components[1] - pexact)**2, mesh)))\n",
    "\n",
    "# Visualisierung\n",
    "(u_sol, p_sol,z) = gfu.components\n",
    "print(\"L2 error u:\", sqrt(Integrate((u_sol - uexact)**2 , mesh)))\n",
    "print(\"L2 error p:\", sqrt(Integrate((p_sol - pexact)**2 , mesh)))\n",
    "Draw(u_sol, mesh, \"velocity\")\n",
    "Draw(p_sol, mesh, \"pressure\")\n"
   ]
  },
  {
   "cell_type": "code",
   "execution_count": 3,
   "id": "fe43d8b8",
   "metadata": {},
   "outputs": [],
   "source": [
    "\n",
    "\n",
    "#uexact = CoefficientFunction((    -r * (1 - r**2) * y, r * (1 - r**2) * x))\n",
    "\n",
    "# Analytischer Druck\n",
    "#pexact = (r + 3 - 15 * r**2) * y"
   ]
  },
  {
   "cell_type": "code",
   "execution_count": 6,
   "id": "cd26182b",
   "metadata": {},
   "outputs": [
    {
     "data": {
      "application/vnd.jupyter.widget-view+json": {
       "model_id": "efd16c4a30684fa29ab6cebdf9b4de0f",
       "version_major": 2,
       "version_minor": 0
      },
      "text/plain": [
       "WebGuiWidget(layout=Layout(height='500px', width='100%'), value={'gui_settings': {}, 'ngsolve_version': '6.2.2…"
      ]
     },
     "metadata": {},
     "output_type": "display_data"
    },
    {
     "data": {
      "application/vnd.jupyter.widget-view+json": {
       "model_id": "c1c0161092f74924b10af095ea899b16",
       "version_major": 2,
       "version_minor": 0
      },
      "text/plain": [
       "WebGuiWidget(layout=Layout(height='500px', width='100%'), value={'gui_settings': {}, 'ngsolve_version': '6.2.2…"
      ]
     },
     "metadata": {},
     "output_type": "display_data"
    },
    {
     "name": "stdout",
     "output_type": "stream",
     "text": [
      "L2 error u: 0.3236043187581708\n",
      "L2 error p: 1.9815113269551106\n"
     ]
    },
    {
     "data": {
      "application/vnd.jupyter.widget-view+json": {
       "model_id": "88b759a370a54e7985fe8aaab50df70d",
       "version_major": 2,
       "version_minor": 0
      },
      "text/plain": [
       "WebGuiWidget(layout=Layout(height='500px', width='100%'), value={'gui_settings': {}, 'ngsolve_version': '6.2.2…"
      ]
     },
     "metadata": {},
     "output_type": "display_data"
    },
    {
     "data": {
      "application/vnd.jupyter.widget-view+json": {
       "model_id": "80b786afba6447a899a929b408d53195",
       "version_major": 2,
       "version_minor": 0
      },
      "text/plain": [
       "WebGuiWidget(layout=Layout(height='500px', width='100%'), value={'gui_settings': {}, 'ngsolve_version': '6.2.2…"
      ]
     },
     "metadata": {},
     "output_type": "display_data"
    },
    {
     "data": {
      "text/plain": [
       "BaseWebGuiScene"
      ]
     },
     "execution_count": 6,
     "metadata": {},
     "output_type": "execute_result"
    }
   ],
   "source": [
    "\n",
    "\n",
    "r = sqrt(x**2 + y**2)\n",
    "u1 = x * (1 - x**2-y**2)**2\n",
    "u2 = y * (1 - x**2-y**2)**2\n",
    "uexact = CoefficientFunction((u1, u2))\n",
    "\n",
    "pexact = sin(x)*cos(y)\n",
    "\n",
    "# Laplace-Anteil\n",
    "lapu1 = 8*x**3 + 8*x *y**2 + (-16*x)*(1-x**2-y**2) \n",
    "lapu2 = 8*y**3 + 8*y *x**2 + (-16*y)*(1-x**2-y**2)\n",
    "\n",
    "\n",
    "# Gradient von p\n",
    "dpdx = cos(x) * cos(y)\n",
    "dpdy = -sin(x) * sin(y)\n",
    "\n",
    "f1 = CoefficientFunction((\n",
    "    -lapu1 + dpdx,\n",
    "    -lapu2 + dpdy\n",
    "))\n",
    "\n",
    "Draw(mesh)\n",
    "\n",
    "order =4\n",
    "\n",
    "# Taylor-Hood Spaces (P2 für u, P1 für p)\n",
    "#V = VectorH1(mesh, order=order)  # Geschwindigkeit\n",
    "V = VectorH1(mesh, order=order, dirichlet = \"wall\") # Geschwindigkeit\n",
    "Q = H1(mesh, order = order-1)                        # Druck\n",
    "M = NumberSpace(mesh) \n",
    "X = V*Q*M\n",
    "\n",
    "# Funktionen definieren\n",
    "(u, p ,l) = X.TrialFunction()\n",
    "(v, q, n) = X.TestFunction()\n",
    "\n",
    "nu = 1.0  # Viskosität\n",
    "f = LinearForm(X)\n",
    "f += f1*v*dx\n",
    "#f +=  CoefficientFunction((0,x)) * v *dx\n",
    "f.Assemble()\n",
    "# Bilinearform: schwache Formulierung\n",
    "a = BilinearForm(X, symmetric=False)\n",
    "a += nu * InnerProduct(grad(u), grad(v))*dx\n",
    "a += div(v)*p*dx\n",
    "a += div(u)*q*dx\n",
    "a += (p*n + q*l) *dx\n",
    "\n",
    "a.Assemble()\n",
    "f.Assemble()\n",
    "\n",
    "# Lösung\n",
    "gfu = GridFunction(X)\n",
    "#gfu.components[0].Set(uexact, definedon=mesh.Boundaries(\"wall\"))\n",
    "Draw(gfu.components[0], mesh, \"velocity\")\n",
    "#f.vec.data -= a.mat * gfu.vec\n",
    "gfu.vec.data += a.mat.Inverse(X.FreeDofs()) * f.vec\n",
    "#solvers.BVP(bf=a, lf=f, gf=gfu)\n",
    "\n",
    "#print(\"L2 error u:\", sqrt(Integrate((gfu.components[0] - uexact)**2 , (gfu.components[1] - pexact)**2, mesh)))\n",
    "\n",
    "# Visualisierung\n",
    "(u_sol, p_sol,z) = gfu.components\n",
    "print(\"L2 error u:\", sqrt(Integrate((u_sol - uexact)**2 , mesh)))\n",
    "print(\"L2 error p:\", sqrt(Integrate((p_sol - pexact)**2 , mesh)))\n",
    "Draw(u_sol, mesh, \"velocity\")\n",
    "Draw(p_sol, mesh, \"pressure\")"
   ]
  },
  {
   "cell_type": "code",
   "execution_count": null,
   "id": "df3ae7f0",
   "metadata": {},
   "outputs": [
    {
     "data": {
      "application/vnd.jupyter.widget-view+json": {
       "model_id": "2b26b1337655466d86ec967546c14e90",
       "version_major": 2,
       "version_minor": 0
      },
      "text/plain": [
       "WebGuiWidget(layout=Layout(height='500px', width='100%'), value={'gui_settings': {}, 'ngsolve_version': '6.2.2…"
      ]
     },
     "metadata": {},
     "output_type": "display_data"
    },
    {
     "data": {
      "application/vnd.jupyter.widget-view+json": {
       "model_id": "545b4744f8b34761a9bfb6d1d8cec3d5",
       "version_major": 2,
       "version_minor": 0
      },
      "text/plain": [
       "WebGuiWidget(layout=Layout(height='500px', width='100%'), value={'gui_settings': {}, 'ngsolve_version': '6.2.2…"
      ]
     },
     "metadata": {},
     "output_type": "display_data"
    },
    {
     "name": "stdout",
     "output_type": "stream",
     "text": [
      "L2 error u: 2.014704055721146\n",
      "L2 error p: 0.7716180386969146\n"
     ]
    },
    {
     "data": {
      "application/vnd.jupyter.widget-view+json": {
       "model_id": "0f2036f9940b4400b1a48982135c7fb1",
       "version_major": 2,
       "version_minor": 0
      },
      "text/plain": [
       "WebGuiWidget(layout=Layout(height='500px', width='100%'), value={'gui_settings': {}, 'ngsolve_version': '6.2.2…"
      ]
     },
     "metadata": {},
     "output_type": "display_data"
    },
    {
     "data": {
      "application/vnd.jupyter.widget-view+json": {
       "model_id": "7cf7ed724b754d53be1c8854256a8a76",
       "version_major": 2,
       "version_minor": 0
      },
      "text/plain": [
       "WebGuiWidget(layout=Layout(height='500px', width='100%'), value={'gui_settings': {}, 'ngsolve_version': '6.2.2…"
      ]
     },
     "metadata": {},
     "output_type": "display_data"
    },
    {
     "data": {
      "text/plain": [
       "BaseWebGuiScene"
      ]
     },
     "execution_count": 8,
     "metadata": {},
     "output_type": "execute_result"
    }
   ],
   "source": [
    "\n",
    "r = sqrt(x**2 + y**2)\n",
    "u1 = -4*y * (1 - x**2 - y**2)\n",
    "u2 = 4*x*(1 - x**2 - y**2)\n",
    "uexact = CoefficientFunction((u1, u2))\n",
    "\n",
    "pexact = sin(x)*cos(y)\n",
    "\n",
    "# Laplace-Anteil\n",
    "lapu1 = 8*y +24 * y\n",
    "lapu2 = -8*x -24*x\n",
    "\n",
    "\n",
    "# Gradient von p\n",
    "dpdx = cos(x) * cos(y)\n",
    "dpdy = -sin(x) * sin(y)\n",
    "\n",
    "f1 = CoefficientFunction((\n",
    "    -lapu1 + dpdx,\n",
    "    -lapu2 + dpdy\n",
    "))\n",
    "#f1 = CF((0,x))\n",
    "Draw(mesh)\n",
    "\n",
    "order =3\n",
    "\n",
    "# Taylor-Hood Spaces (P2 für u, P1 für p)\n",
    "#V = VectorH1(mesh, order=order)  # Geschwindigkeit\n",
    "V = VectorH1(mesh, order=order, dirichlet = \"wall\") # Geschwindigkeit\n",
    "Q = H1(mesh, order = order-1)                        # Druck\n",
    "M = NumberSpace(mesh) \n",
    "X = V*Q*M\n",
    "\n",
    "# Funktionen definieren\n",
    "(u, p ,l) = X.TrialFunction()\n",
    "(v, q, n) = X.TestFunction()\n",
    "\n",
    "nu = 1.0  # Viskosität\n",
    "f = LinearForm(X)\n",
    "f += f1*v*dx\n",
    "#f +=  CoefficientFunction((0,x)) * v *dx\n",
    "f.Assemble()\n",
    "# Bilinearform: schwache Formulierung\n",
    "a = BilinearForm(X, symmetric=False)\n",
    "a += nu * InnerProduct(grad(u), grad(v))*dx\n",
    "a += div(v)*p*dx\n",
    "a += div(u)*q*dx\n",
    "a += (p*n + q*l) *dx\n",
    "\n",
    "a.Assemble()\n",
    "f.Assemble()\n",
    "\n",
    "# Lösung\n",
    "gfu = GridFunction(X)\n",
    "#gfu.components[0].Set(uexact, definedon=mesh.Boundaries(\"wall\"))\n",
    "Draw(gfu.components[0], mesh, \"velocity\")\n",
    "#f.vec.data -= a.mat * gfu.vec\n",
    "gfu.vec.data = a.mat.Inverse(X.FreeDofs()) * f.vec\n",
    "#solvers.BVP(bf=a, lf=f, gf=gfu)\n",
    "\n",
    "#print(\"L2 error u:\", sqrt(Integrate((gfu.components[0] - uexact)**2 , (gfu.components[1] - pexact)**2, mesh)))\n",
    "\n",
    "# Visualisierung\n",
    "(u_sol, p_sol,z) = gfu.components\n",
    "print(\"L2 error u:\", sqrt(Integrate((u_sol - uexact)**2 , mesh)))\n",
    "print(\"L2 error p:\", sqrt(Integrate((p_sol - pexact)**2 , mesh)))\n",
    "Draw(u_sol, mesh, \"velocity\")\n",
    "Draw(p_sol, mesh, \"pressure\")"
   ]
  }
 ],
 "metadata": {
  "kernelspec": {
   "display_name": "Python 3",
   "language": "python",
   "name": "python3"
  },
  "language_info": {
   "codemirror_mode": {
    "name": "ipython",
    "version": 3
   },
   "file_extension": ".py",
   "mimetype": "text/x-python",
   "name": "python",
   "nbconvert_exporter": "python",
   "pygments_lexer": "ipython3",
   "version": "3.8.10"
  }
 },
 "nbformat": 4,
 "nbformat_minor": 5
}
