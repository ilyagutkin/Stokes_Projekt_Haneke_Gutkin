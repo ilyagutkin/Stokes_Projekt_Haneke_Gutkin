{
 "cells": [
  {
   "cell_type": "markdown",
   "id": "c01a3d6f",
   "metadata": {},
   "source": [
    "# Model Problem on the Unit Disk\n",
    "\n",
    "Let $\\Omega$ be the **unit disk** in $\\mathbb{R}^2$.\n",
    "\n",
    "We want to solve the model problem\n",
    "\n",
    "$$\n",
    "- \\Delta u = f \\quad \\text{in } \\Omega, \\qquad u = u_D \\quad \\text{on } \\partial \\Omega,\n",
    "$$\n",
    "\n",
    "where $\\Omega$ is embedded in a **background domain** $(-1.25,\\ 1.25)^2$.\n",
    "\n",
    "We consider the Dirichlet problem with prescribed boundary data $u_D$ and a right-hand side function $f$.\n",
    "\n"
   ]
  }
 ],
 "metadata": {
  "language_info": {
   "name": "python"
  }
 },
 "nbformat": 4,
 "nbformat_minor": 5
}
