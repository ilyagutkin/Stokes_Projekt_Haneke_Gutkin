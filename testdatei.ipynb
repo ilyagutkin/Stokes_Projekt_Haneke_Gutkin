{
 "cells": [
  {
   "cell_type": "markdown",
   "id": "c01a3d6f",
   "metadata": {},
   "source": [
    "# Model Problem on the Unit Disk\n",
    "\n",
    "Let $\\Omega$ be the **unit disk** in $\\mathbb{R}^2$.\n",
    "\n",
    "We want to solve the model problem\n",
    "\n",
    "$$\n",
    "- \\Delta u = f \\quad \\text{in } \\Omega, \\qquad u = u_D \\quad \\text{on } \\partial \\Omega,\n",
    "$$\n",
    "\n",
    "where $\\Omega$ is embedded in a **background domain** $(-1.25,\\ 1.25)^2$.\n",
    "\n",
    "We consider the Dirichlet problem with prescribed boundary data $u_D$ and a right-hand side function $f$.\n",
    "\n"
   ]
  },
  {
   "cell_type": "code",
   "execution_count": 31,
   "id": "cc9e3903",
   "metadata": {},
   "outputs": [],
   "source": [
    "from netgen.geom2d import SplineGeometry\n",
    "from ngsolve import *\n",
    "from ngsolve.internal import *\n",
    "import ngsolve\n",
    "from xfem import *"
   ]
  },
  {
   "cell_type": "code",
   "execution_count": 32,
   "id": "5b3fed4d",
   "metadata": {},
   "outputs": [],
   "source": [
    "maxh = 0.1\n",
    "# Finite element space order\n",
    "order = 1\n",
    "# Stabilization parameter for ghost-penalty\n",
    "gamma_stab = 0.1\n",
    "# Stabilization parameter for Nitsche\n",
    "lambda_nitsche = 10 * order * order"
   ]
  },
  {
   "cell_type": "code",
   "execution_count": 33,
   "id": "1b33e404",
   "metadata": {},
   "outputs": [
    {
     "data": {
      "application/vnd.jupyter.widget-view+json": {
       "model_id": "b623b8ce29a44b818fd0d00a8e6053f7",
       "version_major": 2,
       "version_minor": 0
      },
      "text/plain": [
       "WebGuiWidget(layout=Layout(height='500px', width='100%'), value={'gui_settings': {}, 'ngsolve_version': '6.2.2…"
      ]
     },
     "metadata": {},
     "output_type": "display_data"
    },
    {
     "data": {
      "text/plain": [
       "BaseWebGuiScene"
      ]
     },
     "execution_count": 33,
     "metadata": {},
     "output_type": "execute_result"
    }
   ],
   "source": [
    "square = SplineGeometry()\n",
    "square.AddRectangle((-1.25, -1.25), (1.25, 1.25), bc=1)\n",
    "ngmesh = square.GenerateMesh(maxh=maxh)\n",
    "mesh = Mesh(ngmesh)\n",
    "Draw(mesh)"
   ]
  },
  {
   "cell_type": "code",
   "execution_count": 34,
   "id": "a4b1b037",
   "metadata": {},
   "outputs": [],
   "source": [
    "r = sqrt(x**2 + y**2)\n",
    "levelset = r-1\n",
    "\n",
    "exact = sin(x+y)\n",
    "coeff_f = - (exact.Diff(x).Diff(x) + exact.Diff(y).Diff(y)).Compile()"
   ]
  },
  {
   "cell_type": "code",
   "execution_count": 48,
   "id": "6255bb45",
   "metadata": {},
   "outputs": [
    {
     "name": "stderr",
     "output_type": "stream",
     "text": [
      "used dof inconsistency\n",
      "(silence this warning by setting BilinearForm(...check_unused=False) )\n"
     ]
    },
    {
     "data": {
      "application/vnd.jupyter.widget-view+json": {
       "model_id": "92a08cb75dea41c2ad4254afa4b08555",
       "version_major": 2,
       "version_minor": 0
      },
      "text/plain": [
       "WebGuiWidget(layout=Layout(height='500px', width='100%'), value={'gui_settings': {}, 'ngsolve_version': '6.2.2…"
      ]
     },
     "metadata": {},
     "output_type": "display_data"
    },
    {
     "data": {
      "application/vnd.jupyter.widget-view+json": {
       "model_id": "5ac7e49a23b545f08394781fac12bccf",
       "version_major": 2,
       "version_minor": 0
      },
      "text/plain": [
       "WebGuiWidget(layout=Layout(height='500px', width='100%'), value={'gui_settings': {}, 'ngsolve_version': '6.2.2…"
      ]
     },
     "metadata": {},
     "output_type": "display_data"
    },
    {
     "data": {
      "text/plain": [
       "BaseWebGuiScene"
      ]
     },
     "execution_count": 48,
     "metadata": {},
     "output_type": "execute_result"
    }
   ],
   "source": [
    "maxh = 0.1\n",
    "gamma_stab = 0.1\n",
    "beta0 =1\n",
    "beta2 = 1\n",
    "square = SplineGeometry()\n",
    "square.AddRectangle((-1.25, -1.25), (1.25, 1.25), bc=1)\n",
    "ngmesh = square.GenerateMesh(maxh=maxh)\n",
    "mesh = Mesh(ngmesh)\n",
    "\n",
    "lsetp1 = GridFunction(H1(mesh))\n",
    "InterpolateToP1(levelset,lsetp1)# Element, facet and dof marking w.r.t. boundary approximation with lsetp1:\n",
    "ci = CutInfo(mesh, lsetp1)\n",
    "hasneg = ci.GetElementsOfType(HASNEG)\n",
    "neg = ci.GetElementsOfType(NEG)\n",
    "hasif = ci.GetElementsOfType(IF)\n",
    "haspos = ci.GetElementsOfType(HASPOS)\n",
    "ba_facets = GetFacetsWithNeighborTypes(mesh, a=haspos, b=any)\n",
    "patch_elements = ci.GetElementsOfType(ANY)\n",
    "#cut_elements = ci.GetElementsOfType(HASIF)  \n",
    "\n",
    "\n",
    "interior_facets = GetFacetsWithNeighborTypes(mesh, a=hasneg, b=hasneg)\n",
    "interface_facet_set = GetFacetsWithNeighborTypes(mesh, a=hasif, b=hasif)\n",
    "#interface_facet_set |= GetFacetsWithNeighborTypes(mesh, a=any, b=hasneg)\n",
    "\n",
    "\n",
    "h = specialcf.mesh_size\n",
    "n = Normalize(grad(lsetp1))\n",
    "\n",
    "# integration domains:\n",
    "dx = dCut(lsetp1, NEG, definedonelements=hasneg)\n",
    "ds = dCut(lsetp1, IF, definedonelements=hasif)\n",
    "dw = dFacetPatch(definedonelements=ba_facets)\n",
    "dw_int = dFacetPatch(definedonelements=interior_facets)\n",
    "dw_interface = dFacetPatch(definedonelements=interface_facet_set)\n",
    "\n",
    "#ba_facets = GetFacetsWithNeighborTypes(mesh, a=hasneg, b=hasif)\n",
    "V = VectorH1(mesh, order=2,dgjumps = True)\n",
    "Q = H1(mesh, order=1)\n",
    "X = V*Q\n",
    "(u,p),(v,q) = X.TnT()\n",
    "gfu = GridFunction(X)\n",
    "\n",
    "def jump(f):\n",
    "    return f - f.Other()\n",
    "def jumpn(f):\n",
    "    return f*n - f.Other()*n\n",
    "\n",
    "stokes = InnerProduct(Grad(u), Grad(v))*dx + div(u)*q*dx + div(v)*p*dx\n",
    "a = BilinearForm(stokes)\n",
    "#a += gamma_stab / h**2 * (grad(u) - grad(u.Other())) * (grad(v) - grad(v.Other())) * dw\n",
    "a += beta0 * h * jump(p) * jump(q) * dw_int # pressure stabilization\n",
    "a += beta2* jumpn(u) * jumpn(v) * dw_interface #velocity ghost penalty\n",
    "a += beta0 * h * jump(p) * jump(q) * dw_interface #pressure ghost penalty\n",
    "\n",
    "a.Assemble()\n",
    "\n",
    "f = CF((1,0))\n",
    "rhs = LinearForm(X)  # oder f*v*dx mit f gegeben\n",
    "rhs += InnerProduct(f, v)* dx\n",
    "rhs.Assemble()\n",
    "\n",
    "gfu.vec.data = a.mat.Inverse(X.FreeDofs()) * rhs.vec\n",
    "\n",
    "#l2error.append(sqrt(Integrate((gfu - exact)**2*dx, mesh)))\n",
    "Draw(gfu.components[0], mesh, \"u\")\n",
    "Draw(gfu.components[1], mesh, \"p\")\n"
   ]
  }
 ],
 "metadata": {
  "kernelspec": {
   "display_name": "Python 3",
   "language": "python",
   "name": "python3"
  },
  "language_info": {
   "codemirror_mode": {
    "name": "ipython",
    "version": 3
   },
   "file_extension": ".py",
   "mimetype": "text/x-python",
   "name": "python",
   "nbconvert_exporter": "python",
   "pygments_lexer": "ipython3",
   "version": "3.8.10"
  }
 },
 "nbformat": 4,
 "nbformat_minor": 5
}
