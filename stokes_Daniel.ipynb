{
 "cells": [
  {
   "cell_type": "code",
   "execution_count": 51,
   "id": "81f3c287",
   "metadata": {},
   "outputs": [],
   "source": [
    "from netgen.geom2d import SplineGeometry\n",
    "from ngsolve import *\n",
    "from ngsolve.internal import *\n",
    "import ngsolve\n",
    "from xfem import *\n",
    "from ngsolve import specialcf"
   ]
  },
  {
   "cell_type": "code",
   "execution_count": 52,
   "id": "abfaaf8b",
   "metadata": {},
   "outputs": [],
   "source": [
    "maxh = 0.1\n",
    "# Finite element space order\n",
    "order = 1\n",
    "# Stabilization parameter for ghost-penalty\n",
    "gamma_stab = 0.1\n",
    "# Stabilization parameter for Nitsche\n",
    "lambda_nitsche = 10 * order * order"
   ]
  },
  {
   "cell_type": "code",
   "execution_count": 53,
   "id": "f2372319",
   "metadata": {},
   "outputs": [
    {
     "data": {
      "application/vnd.jupyter.widget-view+json": {
       "model_id": "16e2c79752534a778dd4c884119a4dbe",
       "version_major": 2,
       "version_minor": 0
      },
      "text/plain": [
       "WebGuiWidget(layout=Layout(height='500px', width='100%'), value={'gui_settings': {}, 'ngsolve_version': '6.2.2…"
      ]
     },
     "metadata": {},
     "output_type": "display_data"
    },
    {
     "data": {
      "text/plain": [
       "BaseWebGuiScene"
      ]
     },
     "execution_count": 53,
     "metadata": {},
     "output_type": "execute_result"
    }
   ],
   "source": [
    "square = SplineGeometry()\n",
    "square.AddRectangle((-1.25, -1.25), (1.25, 1.25), bc=1)\n",
    "ngmesh = square.GenerateMesh(maxh=maxh)\n",
    "mesh = Mesh(ngmesh)\n",
    "Draw(mesh)"
   ]
  },
  {
   "cell_type": "code",
   "execution_count": 54,
   "id": "3f02e9c3",
   "metadata": {},
   "outputs": [],
   "source": [
    "r = sqrt(x**2 + y**2)\n",
    "levelset = r-1\n",
    "\n",
    "exact = sin(x+y)\n",
    "coeff_f = - (exact.Diff(x).Diff(x) + exact.Diff(y).Diff(y)).Compile()"
   ]
  },
  {
   "cell_type": "code",
   "execution_count": 55,
   "id": "7804abe3",
   "metadata": {},
   "outputs": [
    {
     "data": {
      "application/vnd.jupyter.widget-view+json": {
       "model_id": "df3411a7810742d28808309f4eb8e753",
       "version_major": 2,
       "version_minor": 0
      },
      "text/plain": [
       "WebGuiWidget(layout=Layout(height='500px', width='100%'), value={'gui_settings': {}, 'ngsolve_version': '6.2.2…"
      ]
     },
     "metadata": {},
     "output_type": "display_data"
    },
    {
     "data": {
      "application/vnd.jupyter.widget-view+json": {
       "model_id": "96d8916a7cbd4355aa6361f50b3b7750",
       "version_major": 2,
       "version_minor": 0
      },
      "text/plain": [
       "WebGuiWidget(layout=Layout(height='500px', width='100%'), value={'gui_settings': {}, 'ngsolve_version': '6.2.2…"
      ]
     },
     "metadata": {},
     "output_type": "display_data"
    },
    {
     "data": {
      "text/plain": [
       "BaseWebGuiScene"
      ]
     },
     "execution_count": 55,
     "metadata": {},
     "output_type": "execute_result"
    }
   ],
   "source": [
    "\n",
    "\n",
    "maxh = 0.2\n",
    "h = specialcf.mesh_size\n",
    "#hf = get_length_of_edge(mesh, mesh.edges[0])\n",
    "n = Normalize(grad(lsetp1))\n",
    "\n",
    "g = CoefficientFunction(0)\n",
    "\n",
    "square = SplineGeometry()\n",
    "square.AddRectangle((-1.25, -1.25), (1.25, 1.25), bc=1)\n",
    "ngmesh = square.GenerateMesh(maxh=maxh)\n",
    "mesh = Mesh(ngmesh)\n",
    "lsetp1 = GridFunction(H1(mesh))\n",
    "InterpolateToP1(levelset,lsetp1)\n",
    "         # Element, facet and dof marking w.r.t. boundary approximation with lsetp1:\n",
    "         #     ci = CutInfo(mesh, lsetp1)\n",
    "hasneg = ci.GetElementsOfType(HASNEG)\n",
    "neg = ci.GetElementsOfType(NEG)\n",
    "hasif = ci.GetElementsOfType(IF)\n",
    "haspos = ci.GetElementsOfType(HASPOS)\n",
    "ba_facets = GetFacetsWithNeighborTypes(mesh, a=haspos, b=any)\n",
    "patch_elements = ci.GetElementsOfType(ANY)\n",
    "\n",
    "from xfem import XFESpace\n",
    "\n",
    "# ... mesh and lsetp1 definition as before ...\n",
    "\n",
    "Vh = VectorH1(mesh, order=2, dirichlet=[], dgjumps=True)\n",
    "Qh = H1(mesh, order=1, dirichlet=[], dgjumps=True)\n",
    "X = Vh * Qh\n",
    "gfu = GridFunction(X)\n",
    "(u, p), (v, q) = X.TnT()\n",
    "\n",
    "# Now you can use cut integration domains:\n",
    "dx = dCut(lsetp1, NEG, definedonelements=hasneg)\n",
    "ds = dCut(lsetp1, IF, definedonelements=hasif)\n",
    "dw = dFacetPatch(definedonelements=ba_facets)\n",
    "\n",
    "# ... rest of your variational formulation ...\n",
    "\n",
    "\n",
    "\n",
    "gamma_stab = 0.01\n",
    "beta_1 = 0.1\n",
    "beta_2 = 0.1\n",
    "beta_3 = 0.1\n",
    "\n",
    "stokes = InnerProduct(Grad(u), Grad(v)) * dx - div(u)*q*dx - div(v)*p*dx + gamma_stab / h * u * v * ds\n",
    "stokes += beta_2 * h**2 * (u - u.Other()) * (v - v.Other()) * dw #hf\n",
    "stokes += -(Grad(u)*n * v + Grad(v)*n * u) * ds\n",
    "stokes += n*v* p * ds + n*u*q * ds \n",
    "stokes += beta_3 *h**3 *(Grad(p)*n-Grad(p.Other())*n)*(Grad(q)*n-Grad(q.Other())*n) * dw #hf\n",
    "a = BilinearForm(stokes).Assemble()\n",
    "\n",
    "f = LinearForm(X)\n",
    "f_rhs = CoefficientFunction((coeff_f, coeff_f))  # or your desired vector-valued RHS\n",
    "f += InnerProduct(f_rhs, v) * dx\n",
    "\n",
    "# For the velocity test function v (vector-valued)\n",
    "f += InnerProduct(g * (gamma_stab / h * v + Grad(v)*n), n) * ds # InnerProduct not needed, as g is scalar\n",
    "\n",
    "# For the pressure test function q (scalar)\n",
    "f += g * q * ds # This is a vector, but q*n is only valid if you integrate against a vector-valued test function\n",
    "\n",
    "#f += g * (gamma_stab / h * v + Grad(v)*n + q*n) * ds\n",
    "f += - beta_1 * h * f_rhs* Grad(q) * dx\n",
    "f.Assemble()\n",
    "# Solve linear system\n",
    "gfu.vec.data = a.mat.Inverse(X.FreeDofs(),inverse=\"sparsecholesky\") * f.vec\n",
    "Draw(mesh, lsetp1, \"levelset\")\n",
    "Draw(gfu.components[0], mesh, \"velocity\")\n",
    "#l2error.append(sqrt(Integrate((gfu - exact)**2*dx, mesh)))\n",
    "#print(\"L2 Error: {0}\".format(l2error), \"meshzise: {0}\".format(maxh), \"lambda_nitsche: {0}\".format(lambda_nitsche), \"gamma_stab: {0}\".format(gamma_stab))"
   ]
  },
  {
   "cell_type": "code",
   "execution_count": 64,
   "id": "1f573bf3",
   "metadata": {},
   "outputs": [
    {
     "ename": "NgException",
     "evalue": "lsets need to be GridFunctions!",
     "output_type": "error",
     "traceback": [
      "\u001b[31m---------------------------------------------------------------------------\u001b[39m",
      "\u001b[31mNgException\u001b[39m                               Traceback (most recent call last)",
      "\u001b[36mCell\u001b[39m\u001b[36m \u001b[39m\u001b[32mIn[64]\u001b[39m\u001b[32m, line 4\u001b[39m\n\u001b[32m      2\u001b[39m ds = dCut(lsetp1, IF, definedonelements=hasif)\n\u001b[32m      3\u001b[39m dw = dFacetPatch(definedonelements=ba_facets)\n\u001b[32m----> \u001b[39m\u001b[32m4\u001b[39m dxbar = \u001b[43mdCut\u001b[49m\u001b[43m(\u001b[49m\u001b[43mlsetp1\u001b[49m\u001b[43m,\u001b[49m\u001b[43m \u001b[49m\u001b[43mHASNEG\u001b[49m\u001b[43m,\u001b[49m\u001b[43m \u001b[49m\u001b[43mdefinedonelements\u001b[49m\u001b[43m=\u001b[49m\u001b[43mhasneg\u001b[49m\u001b[43m)\u001b[49m\n",
      "\u001b[36mFile \u001b[39m\u001b[32mc:\\Users\\Daniel\\AppData\\Local\\Programs\\Python\\Python313\\Lib\\site-packages\\xfem\\__init__.py:842\u001b[39m, in \u001b[36mdCut\u001b[39m\u001b[34m(levelset, domain_type, order, subdivlvl, time_order, levelset_domain, **kwargs)\u001b[39m\n\u001b[32m    839\u001b[39m     lsetdom[\u001b[33m\"\u001b[39m\u001b[33mtref\u001b[39m\u001b[33m\"\u001b[39m] = kwargs[\u001b[33m\"\u001b[39m\u001b[33mtref\u001b[39m\u001b[33m\"\u001b[39m]\n\u001b[32m    840\u001b[39m     \u001b[38;5;28;01mdel\u001b[39;00m kwargs[\u001b[33m\"\u001b[39m\u001b[33mtref\u001b[39m\u001b[33m\"\u001b[39m]\n\u001b[32m--> \u001b[39m\u001b[32m842\u001b[39m \u001b[38;5;28;01mreturn\u001b[39;00m \u001b[43m_dCut_raw\u001b[49m\u001b[43m(\u001b[49m\u001b[43mlsetdom\u001b[49m\u001b[43m,\u001b[49m\u001b[43m \u001b[49m\u001b[43m*\u001b[49m\u001b[43m*\u001b[49m\u001b[43mkwargs\u001b[49m\u001b[43m)\u001b[49m\n",
      "\u001b[31mNgException\u001b[39m: lsets need to be GridFunctions!"
     ]
    }
   ],
   "source": [
    "dx = dCut(lsetp1, NEG, definedonelements=hasneg)\n",
    "ds = dCut(lsetp1, IF, definedonelements=hasif)\n",
    "dw = dFacetPatch(definedonelements=ba_facets)\n",
    "dxbar = dCut(lsetp1, HASNEG, definedonelements=hasneg)"
   ]
  },
  {
   "cell_type": "code",
   "execution_count": 63,
   "id": "45b09d0c",
   "metadata": {},
   "outputs": [
    {
     "ename": "TypeError",
     "evalue": "__call__(): incompatible function arguments. The following argument types are supported:\n    1. (self: xfem.xfem.CutDifferentialSymbol, levelset_domain: dict, definedon: Optional[Union[ngsolve.comp.Region, str]] = None, vb: ngsolve.comp.VorB = <VorB.VOL: 0>, element_boundary: bool = False, element_vb: ngsolve.comp.VorB = <VorB.VOL: 0>, skeleton: bool = False, deformation: ngsolve.comp.GridFunction = None, definedonelements: pyngcore.pyngcore.BitArray = None) -> xfem.xfem.CutDifferentialSymbol\n\nInvoked with: <xfem.xfem.CutDifferentialSymbol object at 0x000002F2337E4670>; kwargs: definedonelements=<pyngcore.pyngcore.BitArray object at 0x000002F272F716F0>",
     "output_type": "error",
     "traceback": [
      "\u001b[31m---------------------------------------------------------------------------\u001b[39m",
      "\u001b[31mTypeError\u001b[39m                                 Traceback (most recent call last)",
      "\u001b[36mCell\u001b[39m\u001b[36m \u001b[39m\u001b[32mIn[63]\u001b[39m\u001b[32m, line 1\u001b[39m\n\u001b[32m----> \u001b[39m\u001b[32m1\u001b[39m dxbar = \u001b[43mdx\u001b[49m\u001b[43m(\u001b[49m\u001b[43mdefinedonelements\u001b[49m\u001b[43m=\u001b[49m\u001b[43mci\u001b[49m\u001b[43m.\u001b[49m\u001b[43mGetElementsOfType\u001b[49m\u001b[43m(\u001b[49m\u001b[43mHASNEG\u001b[49m\u001b[43m)\u001b[49m\u001b[43m)\u001b[49m\n\u001b[32m      2\u001b[39m dxinner = dx(definedonelements=ci.GetElementsOfType(NEG))\n\u001b[32m      3\u001b[39m dxcut = dx(definedonelements=ci.GetElementsOfType(IF))\n",
      "\u001b[31mTypeError\u001b[39m: __call__(): incompatible function arguments. The following argument types are supported:\n    1. (self: xfem.xfem.CutDifferentialSymbol, levelset_domain: dict, definedon: Optional[Union[ngsolve.comp.Region, str]] = None, vb: ngsolve.comp.VorB = <VorB.VOL: 0>, element_boundary: bool = False, element_vb: ngsolve.comp.VorB = <VorB.VOL: 0>, skeleton: bool = False, deformation: ngsolve.comp.GridFunction = None, definedonelements: pyngcore.pyngcore.BitArray = None) -> xfem.xfem.CutDifferentialSymbol\n\nInvoked with: <xfem.xfem.CutDifferentialSymbol object at 0x000002F2337E4670>; kwargs: definedonelements=<pyngcore.pyngcore.BitArray object at 0x000002F272F716F0>"
     ]
    }
   ],
   "source": [
    "dxbar = dx(definedonelements=ci.GetElementsOfType(HASNEG))\n",
    "dxinner = dx(definedonelements=ci.GetElementsOfType(NEG))\n",
    "dxcut = dx(definedonelements=ci.GetElementsOfType(IF))\n",
    "ds = dCut(lsetp1, IF, definedonelements=hasif)\n",
    "deb = dx(definedonelements=hasany, element_boundary=True)"
   ]
  },
  {
   "cell_type": "code",
   "execution_count": 67,
   "id": "c3112976",
   "metadata": {},
   "outputs": [
    {
     "ename": "NgException",
     "evalue": "lsets need to be GridFunctions!",
     "output_type": "error",
     "traceback": [
      "\u001b[31m---------------------------------------------------------------------------\u001b[39m",
      "\u001b[31mNgException\u001b[39m                               Traceback (most recent call last)",
      "\u001b[36mCell\u001b[39m\u001b[36m \u001b[39m\u001b[32mIn[67]\u001b[39m\u001b[32m, line 38\u001b[39m\n\u001b[32m     36\u001b[39m ds = dCut(lsetp1, IF, definedonelements=hasif)\n\u001b[32m     37\u001b[39m dw = dFacetPatch(definedonelements=ba_facets)\n\u001b[32m---> \u001b[39m\u001b[32m38\u001b[39m dxbar = \u001b[43mdCut\u001b[49m\u001b[43m(\u001b[49m\u001b[43mlsetp1\u001b[49m\u001b[43m,\u001b[49m\u001b[43m \u001b[49m\u001b[43mHASNEG\u001b[49m\u001b[43m,\u001b[49m\u001b[43m \u001b[49m\u001b[43mdefinedonelements\u001b[49m\u001b[43m=\u001b[49m\u001b[43mhasneg\u001b[49m\u001b[43m)\u001b[49m\n\u001b[32m     40\u001b[39m \u001b[38;5;66;03m# ... rest of your variational formulation ...\u001b[39;00m\n\u001b[32m     44\u001b[39m gamma_stab = \u001b[32m10\u001b[39m * order * order\n",
      "\u001b[36mFile \u001b[39m\u001b[32mc:\\Users\\Daniel\\AppData\\Local\\Programs\\Python\\Python313\\Lib\\site-packages\\xfem\\__init__.py:842\u001b[39m, in \u001b[36mdCut\u001b[39m\u001b[34m(levelset, domain_type, order, subdivlvl, time_order, levelset_domain, **kwargs)\u001b[39m\n\u001b[32m    839\u001b[39m     lsetdom[\u001b[33m\"\u001b[39m\u001b[33mtref\u001b[39m\u001b[33m\"\u001b[39m] = kwargs[\u001b[33m\"\u001b[39m\u001b[33mtref\u001b[39m\u001b[33m\"\u001b[39m]\n\u001b[32m    840\u001b[39m     \u001b[38;5;28;01mdel\u001b[39;00m kwargs[\u001b[33m\"\u001b[39m\u001b[33mtref\u001b[39m\u001b[33m\"\u001b[39m]\n\u001b[32m--> \u001b[39m\u001b[32m842\u001b[39m \u001b[38;5;28;01mreturn\u001b[39;00m \u001b[43m_dCut_raw\u001b[49m\u001b[43m(\u001b[49m\u001b[43mlsetdom\u001b[49m\u001b[43m,\u001b[49m\u001b[43m \u001b[49m\u001b[43m*\u001b[49m\u001b[43m*\u001b[49m\u001b[43mkwargs\u001b[49m\u001b[43m)\u001b[49m\n",
      "\u001b[31mNgException\u001b[39m: lsets need to be GridFunctions!"
     ]
    }
   ],
   "source": [
    "from xfem import HASNEG\n",
    "\n",
    "maxh = 0.2\n",
    "order = 2\n",
    "h = specialcf.mesh_size\n",
    "#hf = get_length_of_edge(mesh, mesh.edges[0])\n",
    "n = Normalize(grad(lsetp1))\n",
    "\n",
    "g = CoefficientFunction((0, 0))\n",
    "\n",
    "square = SplineGeometry()\n",
    "square.AddRectangle((-1.25, -1.25), (1.25, 1.25), bc=1)\n",
    "ngmesh = square.GenerateMesh(maxh=maxh)\n",
    "mesh = Mesh(ngmesh)\n",
    "lsetp1 = GridFunction(H1(mesh))\n",
    "InterpolateToP1(levelset,lsetp1)\n",
    "         # Element, facet and dof marking w.r.t. boundary approximation with lsetp1:\n",
    "         #     ci = CutInfo(mesh, lsetp1)\n",
    "hasneg = ci.GetElementsOfType(HASNEG)\n",
    "neg = ci.GetElementsOfType(NEG)\n",
    "hasif = ci.GetElementsOfType(IF)\n",
    "haspos = ci.GetElementsOfType(HASPOS)\n",
    "ba_facets = GetFacetsWithNeighborTypes(mesh, a=haspos, b=any)\n",
    "patch_elements = ci.GetElementsOfType(ANY)\n",
    "\n",
    "# ... mesh and lsetp1 definition as before ...\n",
    "\n",
    "Vh = VectorH1(mesh, order=order, dirichlet=[], dgjumps=True)\n",
    "Qh = H1(mesh, order=1, dirichlet=[], dgjumps=True)\n",
    "X = Vh * Qh\n",
    "gfu = GridFunction(X)\n",
    "(u, p), (v, q) = X.TnT()\n",
    "\n",
    "# Now you can use cut integration domains:\n",
    "dx = dCut(lsetp1, NEG, definedonelements=hasneg)\n",
    "ds = dCut(lsetp1, IF, definedonelements=hasif)\n",
    "dw = dFacetPatch(definedonelements=ba_facets)\n",
    "dxbar = dCut(lsetp1, HASNEG, definedonelements=hasneg)\n",
    "\n",
    "# ... rest of your variational formulation ...\n",
    "\n",
    "\n",
    "\n",
    "gamma_stab = 10 * order * order\n",
    "beta_0 = 0.1\n",
    "beta_1 = 0.1\n",
    "beta_2 = 0.5\n",
    "beta_3 = 0.5\n",
    "\n",
    "stokes = InnerProduct(Grad(u), Grad(v)) * dx - div(u)*q*dx - div(v)*p*dx + gamma_stab / h * u * v * ds #a,b\n",
    "stokes += beta_2 * h * (Grad(u)*n - Grad(u.Other())*n) * (Grad(v)*n - Grad(v.Other())*n) * dw #i #hf\n",
    "stokes += -(Grad(u)*n * v + Grad(v)*n * u) * ds #a\n",
    "stokes += n*v* p * ds + n*u*q * ds #b\n",
    "stokes += beta_3 *h**3 *(Grad(p)*n-Grad(p.Other())*n)*(Grad(q)*n-Grad(q.Other())*n) * dw #j #hf\n",
    "stokes += -beta_0 * h* (p - p.Other()) * (q - q.Other()) * dw #c #hf\n",
    "stokes += -beta_1 * h**2 * Grad(p)  * Grad(q) * dx #c #hf\n",
    "a = BilinearForm(stokes).Assemble()\n",
    "\n",
    "f = LinearForm(X)\n",
    "f_rhs = CoefficientFunction((1, 0))\n",
    "#f_rhs = CoefficientFunction((coeff_f, coeff_f))  # or your desired vector-valued RHS\n",
    "f += InnerProduct(f_rhs, v) * dx\n",
    "f += g * (gamma_stab / h * v + Grad(v)*n + q*n) * ds\n",
    "f += - beta_1 * h**2 * f_rhs* Grad(q) * dx\n",
    "f.Assemble()\n",
    "\n",
    "# Solve linear system\n",
    "gfu.vec.data = a.mat.Inverse(X.FreeDofs(),inverse=\"sparsecholesky\") * f.vec\n",
    "Draw(mesh, lsetp1, \"levelset\")\n",
    "Draw(gfu.components[0], mesh, \"velocity\")\n",
    "#l2error.append(sqrt(Integrate((gfu - exact)**2*dx, mesh)))\n",
    "#print(\"L2 Error: {0}\".format(l2error), \"meshzise: {0}\".format(maxh), \"lambda_nitsche: {0}\".format(lambda_nitsche), \"gamma_stab: {0}\".format(gamma_stab))"
   ]
  },
  {
   "cell_type": "code",
   "execution_count": null,
   "id": "4028098d",
   "metadata": {},
   "outputs": [
    {
     "ename": "NgException",
     "evalue": "SymblicBFI needs scalar-valued CoefficientFunction",
     "output_type": "error",
     "traceback": [
      "\u001b[31m---------------------------------------------------------------------------\u001b[39m",
      "\u001b[31mNgException\u001b[39m                               Traceback (most recent call last)",
      "\u001b[36mCell\u001b[39m\u001b[36m \u001b[39m\u001b[32mIn[58]\u001b[39m\u001b[32m, line 50\u001b[39m\n\u001b[32m     48\u001b[39m stokes += n*v* p * ds + n*u*q * ds \n\u001b[32m     49\u001b[39m stokes += beta_0 *h *(p-p.Other())*(q-q.Other()) * dw \u001b[38;5;66;03m#hf\u001b[39;00m\n\u001b[32m---> \u001b[39m\u001b[32m50\u001b[39m a = \u001b[43mBilinearForm\u001b[49m\u001b[43m(\u001b[49m\u001b[43mstokes\u001b[49m\u001b[43m)\u001b[49m.Assemble()\n\u001b[32m     52\u001b[39m f = LinearForm(X)\n\u001b[32m     53\u001b[39m f_rhs = CoefficientFunction((\u001b[32m1\u001b[39m, \u001b[32m0\u001b[39m))\n",
      "\u001b[31mNgException\u001b[39m: SymblicBFI needs scalar-valued CoefficientFunction"
     ]
    }
   ],
   "source": [
    "maxh = 0.4\n",
    "h = specialcf.mesh_size\n",
    "#hf = get_length_of_edge(mesh, mesh.edges[0])\n",
    "n = Normalize(grad(lsetp1))\n",
    "\n",
    "g = CoefficientFunction((0, 0))\n",
    "\n",
    "square = SplineGeometry()\n",
    "square.AddRectangle((-1.25, -1.25), (1.25, 1.25), bc=1)\n",
    "ngmesh = square.GenerateMesh(maxh=maxh)\n",
    "mesh = Mesh(ngmesh)\n",
    "lsetp1 = GridFunction(H1(mesh))\n",
    "InterpolateToP1(levelset,lsetp1)\n",
    "         # Element, facet and dof marking w.r.t. boundary approximation with lsetp1:\n",
    "         #     ci = CutInfo(mesh, lsetp1)\n",
    "hasneg = ci.GetElementsOfType(HASNEG)\n",
    "neg = ci.GetElementsOfType(NEG)\n",
    "hasif = ci.GetElementsOfType(IF)\n",
    "haspos = ci.GetElementsOfType(HASPOS)\n",
    "ba_facets = GetFacetsWithNeighborTypes(mesh, a=haspos, b=any)\n",
    "patch_elements = ci.GetElementsOfType(ANY)\n",
    "\n",
    "# ... mesh and lsetp1 definition as before ...\n",
    "\n",
    "Vh = VectorH1(mesh, order=2, dirichlet=[], dgjumps=True)\n",
    "Qh = H1(mesh, order=0, dirichlet=[], dgjumps=True)\n",
    "X = Vh * Qh\n",
    "gfu = GridFunction(X)\n",
    "(u, p), (v, q) = X.TnT()\n",
    "\n",
    "# Now you can use cut integration domains:\n",
    "dx = dCut(lsetp1, NEG, definedonelements=hasneg)\n",
    "ds = dCut(lsetp1, IF, definedonelements=hasif)\n",
    "dw = dFacetPatch(definedonelements=ba_facets)\n",
    "\n",
    "# ... rest of your variational formulation ...\n",
    "\n",
    "\n",
    "\n",
    "gamma_stab = 10 * order * order\n",
    "beta_1 = 0.0\n",
    "beta_2 = 0.1\n",
    "beta_0 = 0.1\n",
    "\n",
    "stokes = InnerProduct(Grad(u), Grad(v)) * dx - div(u)*q*dx - div(v)*p*dx + gamma_stab / h * u * v * ds\n",
    "stokes += beta_2 * h**2 * (Grad(u) - Grad(u.Other())) * (Grad(v) - Grad(v.Other())) * dw #hf\n",
    "stokes += -(Grad(u)*n * v + Grad(v)*n * u) * ds\n",
    "stokes += n*v* p * ds + n*u*q * ds \n",
    "stokes += beta_0 *h *(p-p.Other())*(q-q.Other()) * dw #hf\n",
    "a = BilinearForm(stokes).Assemble()\n",
    "\n",
    "f = LinearForm(X)\n",
    "f_rhs = CoefficientFunction((1, 0))\n",
    "#f_rhs = CoefficientFunction((coeff_f, coeff_f))  # or your desired vector-valued RHS\n",
    "f += InnerProduct(f_rhs, v) * dx\n",
    "f += g * (gamma_stab / h * v + Grad(v)*n + q*n) * ds\n",
    "#f += - beta_1 * h**2 * f_rhs* Grad(q) * dx\n",
    "f.Assemble()\n",
    "\n",
    "# Solve linear system\n",
    "gfu.vec.data = a.mat.Inverse(X.FreeDofs(),inverse=\"sparsecholesky\") * f.vec\n",
    "Draw(mesh, lsetp1, \"levelset\")\n",
    "Draw(gfu.components[0], mesh, \"velocity\")\n",
    "#l2error.append(sqrt(Integrate((gfu - exact)**2*dx, mesh)))\n",
    "#print(\"L2 Error: {0}\".format(l2error), \"meshzise: {0}\".format(maxh), \"lambda_nitsche: {0}\".format(lambda_nitsche), \"gamma_stab: {0}\".format(gamma_stab))"
   ]
  },
  {
   "cell_type": "code",
   "execution_count": null,
   "id": "07c99d0b",
   "metadata": {},
   "outputs": [],
   "source": []
  }
 ],
 "metadata": {
  "kernelspec": {
   "display_name": "Python 3",
   "language": "python",
   "name": "python3"
  },
  "language_info": {
   "codemirror_mode": {
    "name": "ipython",
    "version": 3
   },
   "file_extension": ".py",
   "mimetype": "text/x-python",
   "name": "python",
   "nbconvert_exporter": "python",
   "pygments_lexer": "ipython3",
   "version": "3.13.2"
  }
 },
 "nbformat": 4,
 "nbformat_minor": 5
}
