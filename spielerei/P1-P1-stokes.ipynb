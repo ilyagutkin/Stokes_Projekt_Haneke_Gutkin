{
 "cells": [
  {
   "cell_type": "code",
   "execution_count": 1,
   "id": "7aec9009",
   "metadata": {},
   "outputs": [
    {
     "name": "stdout",
     "output_type": "stream",
     "text": [
      "importing ngsxfem-2.1.2405\n"
     ]
    }
   ],
   "source": [
    "from netgen.geom2d import SplineGeometry\n",
    "from ngsolve import *\n",
    "from ngsolve.internal import *\n",
    "import ngsolve\n",
    "from xfem import *"
   ]
  },
  {
   "cell_type": "code",
   "execution_count": 2,
   "id": "b2104fb2",
   "metadata": {},
   "outputs": [
    {
     "data": {
      "application/vnd.jupyter.widget-view+json": {
       "model_id": "249f1421c21e46e1bc1f34e581f55d0a",
       "version_major": 2,
       "version_minor": 0
      },
      "text/plain": [
       "WebGuiWidget(layout=Layout(height='500px', width='100%'), value={'gui_settings': {}, 'ngsolve_version': '6.2.2…"
      ]
     },
     "metadata": {},
     "output_type": "display_data"
    },
    {
     "data": {
      "application/vnd.jupyter.widget-view+json": {
       "model_id": "7470050acd8548c994118d92a2c7ad5a",
       "version_major": 2,
       "version_minor": 0
      },
      "text/plain": [
       "WebGuiWidget(layout=Layout(height='500px', width='100%'), value={'gui_settings': {}, 'ngsolve_version': '6.2.2…"
      ]
     },
     "metadata": {},
     "output_type": "display_data"
    },
    {
     "data": {
      "application/vnd.jupyter.widget-view+json": {
       "model_id": "1ec25893e7e94c8688ddb68323b84003",
       "version_major": 2,
       "version_minor": 0
      },
      "text/plain": [
       "WebGuiWidget(layout=Layout(height='500px', width='100%'), value={'gui_settings': {}, 'ngsolve_version': '6.2.2…"
      ]
     },
     "metadata": {},
     "output_type": "display_data"
    },
    {
     "name": "stdout",
     "output_type": "stream",
     "text": [
      "webgui discontinuous vis only for scalar functions a.t.m., switching to IfPos variant\n"
     ]
    },
    {
     "data": {
      "application/vnd.jupyter.widget-view+json": {
       "model_id": "4cfe69f9b54e4a9a924e7a993ed49232",
       "version_major": 2,
       "version_minor": 0
      },
      "text/plain": [
       "WebGuiWidget(layout=Layout(height='500px', width='100%'), value={'gui_settings': {}, 'ngsolve_version': '6.2.2…"
      ]
     },
     "metadata": {},
     "output_type": "display_data"
    },
    {
     "data": {
      "application/vnd.jupyter.widget-view+json": {
       "model_id": "532812c060a74b97b110c22848d4b4e6",
       "version_major": 2,
       "version_minor": 0
      },
      "text/plain": [
       "WebGuiWidget(layout=Layout(height='500px', width='100%'), value={'gui_settings': {}, 'ngsolve_version': '6.2.2…"
      ]
     },
     "metadata": {},
     "output_type": "display_data"
    },
    {
     "data": {
      "text/plain": [
       "BaseWebGuiScene"
      ]
     },
     "execution_count": 2,
     "metadata": {},
     "output_type": "execute_result"
    }
   ],
   "source": [
    "maxh = 0.2\n",
    "# Finite element space order\n",
    "order = 2\n",
    "# Stabilization parameter for ghost-penalty\n",
    "gamma_stab = 10\n",
    "# Stabilization parameter for Nitsche\n",
    "lambda_nitsche = 10 * order * order\n",
    "\n",
    "square = SplineGeometry()\n",
    "square.AddRectangle((-1.25, -1.25), (1.25, 1.25), bc=1)\n",
    "ngmesh = square.GenerateMesh(maxh=maxh)\n",
    "mesh = Mesh(ngmesh)\n",
    "Draw(mesh)\n",
    "\n",
    "r = sqrt(x**2 + y**2)\n",
    "levelset = r-1\n",
    "\n",
    "maxh = 0.2\n",
    "gamma_stab = 100\n",
    "beta0 =1\n",
    "beta1 = 1\n",
    "beta2 = 1\n",
    "beta3 = 1\n",
    "square = SplineGeometry()\n",
    "square.AddRectangle((-1.25, -1.25), (1.25, 1.25), bc=1)\n",
    "ngmesh = square.GenerateMesh(maxh=maxh)\n",
    "mesh = Mesh(ngmesh)\n",
    "\n",
    "lsetp1 = GridFunction(H1(mesh))\n",
    "InterpolateToP1(levelset,lsetp1)# Element, facet and dof marking w.r.t. boundary approximation with lsetp1:\n",
    "ci = CutInfo(mesh, lsetp1)\n",
    "hasneg = ci.GetElementsOfType(HASNEG)\n",
    "neg = ci.GetElementsOfType(NEG)\n",
    "hasif = ci.GetElementsOfType(IF)\n",
    "haspos = ci.GetElementsOfType(HASPOS)\n",
    "ba_facets = GetFacetsWithNeighborTypes(mesh, a=haspos, b=any)\n",
    "patch_elements = ci.GetElementsOfType(ANY)\n",
    "#cut_elements = ci.GetElementsOfType(HASIF)  \n",
    "\n",
    "\n",
    "interior_facets = GetFacetsWithNeighborTypes(mesh, a=neg, b=neg)\n",
    "interface_facet_set = GetFacetsWithNeighborTypes(mesh, a=hasif, b=hasneg)\n",
    "\n",
    "h = specialcf.mesh_size\n",
    "n = Normalize(grad(lsetp1))\n",
    "\n",
    "# integration domains:\n",
    "dx = dCut(lsetp1, NEG, definedonelements=hasneg)\n",
    "ds = dCut(lsetp1, IF, definedonelements=hasif)\n",
    "dw = dFacetPatch(definedonelements=ba_facets)\n",
    "dw_int = dFacetPatch(definedonelements=interior_facets)\n",
    "dw_interface = dFacetPatch(definedonelements=interface_facet_set)\n",
    "\n",
    "#ba_facets = GetFacetsWithNeighborTypes(mesh, a=hasneg, b=hasif)\n",
    "V = VectorH1(mesh, order=order,dgjumps=True)\n",
    "V = Compress(V, GetDofsOfElements(V,hasneg))\n",
    "Q = H1(mesh, order=order-1)\n",
    "Q = Compress(Q, GetDofsOfElements(Q,hasneg))\n",
    "Z = NumberSpace(mesh)\n",
    "X = V*Q*Z\n",
    "(u,p,z),(v,q,y) = X.TnT()\n",
    "gfu = GridFunction(X)\n",
    "\n",
    "def jump(f):\n",
    "    return f - f.Other()\n",
    "def jumpn(f):\n",
    "    return Grad(f)*n - Grad(f).Other()*n\n",
    "\n",
    "f = CF((0,x))\n",
    "phi = -beta1*h**2*f *grad(q)*dx\n",
    "\n",
    "stokes = InnerProduct(Grad(u), Grad(v))*dx + div(u)*q*dx + div(v)*p*dx\n",
    "a = BilinearForm(stokes)\n",
    "#a += -beta0 * h * jump(p) * jump(q) * dw_int # pressure stabilization order 0\n",
    "#a += -beta1 * h**2 * grad(p)  * grad(q) * dx # pressure stabilization order 1\n",
    "a += beta2*h* (jumpn(u) * jumpn(v)) * dw_interface #velocity ghost penalty\n",
    "a += - beta0 * h * jump(p) * jump(q) * dw_interface #pressure ghost penalty for order 0\n",
    "#a += - beta3 * h**3 * jumpn(p)  * jumpn(q) * dw_interface # pressure ghostpenalty for order 1\n",
    "a += -(Grad(u)*n * v + Grad(v)*n * u) * ds + gamma_stab / h * u * v * ds #nitsche stabilization\n",
    "a += -(q*n * u + p*n * v) * dx\n",
    "a += p*y *dx + q *z*dx\n",
    "#a += beta2/h* InnerProduct(Grad(u), Grad(v)) * dw_interface \n",
    "a.Assemble()\n",
    "\n",
    "rhs = LinearForm(X)  # oder f*v*dx mit f gegeben\n",
    "rhs += InnerProduct(f, v)* dx\n",
    "#rhs += phi\n",
    "rhs.Assemble()\n",
    "\n",
    "gfu.vec.data = a.mat.Inverse(X.FreeDofs()) * rhs.vec\n",
    "\n",
    "#l2error.append(sqrt(Integrate((gfu - exact)**2*dx, mesh)))\n",
    "Draw(gfu.components[0], mesh, \"u\")\n",
    "Draw(gfu.components[1], mesh, \"p\")\n",
    "\n",
    "DrawDC(lsetp1,gfu.components[0], CF((0,0)), mesh, \"u\")\n",
    "DrawDC(lsetp1,gfu.components[1], 0, mesh, \"p\")"
   ]
  }
 ],
 "metadata": {
  "kernelspec": {
   "display_name": "Python 3",
   "language": "python",
   "name": "python3"
  },
  "language_info": {
   "codemirror_mode": {
    "name": "ipython",
    "version": 3
   },
   "file_extension": ".py",
   "mimetype": "text/x-python",
   "name": "python",
   "nbconvert_exporter": "python",
   "pygments_lexer": "ipython3",
   "version": "3.8.10"
  }
 },
 "nbformat": 4,
 "nbformat_minor": 5
}
