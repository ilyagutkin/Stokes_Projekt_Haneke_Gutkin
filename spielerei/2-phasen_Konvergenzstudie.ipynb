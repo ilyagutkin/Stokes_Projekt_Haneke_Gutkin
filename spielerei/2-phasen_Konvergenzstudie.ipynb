{
 "cells": [
  {
   "cell_type": "code",
   "execution_count": 1,
   "id": "dc2fdaf5",
   "metadata": {},
   "outputs": [
    {
     "name": "stdout",
     "output_type": "stream",
     "text": [
      "importing ngsxfem-2.1.2405\n"
     ]
    },
    {
     "data": {
      "application/vnd.jupyter.widget-view+json": {
       "model_id": "7a66bb065983487992216650e8d79c70",
       "version_major": 2,
       "version_minor": 0
      },
      "text/plain": [
       "WebGuiWidget(layout=Layout(height='500px', width='100%'), value={'gui_settings': {}, 'ngsolve_version': '6.2.2…"
      ]
     },
     "metadata": {},
     "output_type": "display_data"
    },
    {
     "data": {
      "text/plain": [
       "BaseWebGuiScene"
      ]
     },
     "execution_count": 1,
     "metadata": {},
     "output_type": "execute_result"
    }
   ],
   "source": [
    "from netgen.geom2d import SplineGeometry\n",
    "from ngsolve import *\n",
    "from xfem import *\n",
    "from xfem.lsetcurv import *\n",
    "\n",
    "SetHeapSize(100000000)\n",
    "\n",
    "# -------------------------------- PARAMETERS ---------------------------------\n",
    "# Mesh size\n",
    "maxh = 0.125\n",
    "# Finite element order (k of P^k/P^{k-1} Taylor-Hood elements)\n",
    "order = 3\n",
    "\n",
    "# Problem parameters\n",
    "mu = [1, 10]\n",
    "\n",
    "R = 2.0 / 3.0\n",
    "\n",
    "aneg = 1.0 / mu[0]\n",
    "apos = 1.0 / mu[1] + (1.0 / mu[0] - 1.0 / mu[1]) * exp(x * x + y * y - R * R)\n",
    "\n",
    "# Discretisation parameters\n",
    "\n",
    "# Stabilization parameters for ghost-penalty\n",
    "gamma_stab_v = 0.05  # if set to zero: no GP-stabilization for velocity\n",
    "gamma_stab_p = 0.05\n",
    "# Stabilization parameter for Nitsche\n",
    "lambda_nitsche = 0.5 * (mu[0] + mu[1]) * 20 * order * order\n",
    "\n",
    "# ----------------------------------- MAIN ------------------------------------\n",
    "# Generate the background mesh\n",
    "square = SplineGeometry()\n",
    "square.AddRectangle((-1, -1), (1, 1), bcs=[1, 2, 3, 4])\n",
    "mesh = Mesh(square.GenerateMesh(maxh=maxh, quad_dominated=False))\n",
    "\n",
    "d = mesh.dim\n",
    "\n",
    "\n",
    "# Construct the exact level set function, radius and radius squared:\n",
    "rsqr = x**2 + y**2\n",
    "r = sqrt(rsqr)\n",
    "\n",
    "levelset = r - R\n",
    "Draw(mesh)"
   ]
  },
  {
   "cell_type": "code",
   "execution_count": 2,
   "id": "4cc6d019",
   "metadata": {},
   "outputs": [],
   "source": [
    "# Construct the exact solution:\n",
    "gammaf = 0.5  # surface tension = pressure jump\n",
    "vel_exact = [a * CoefficientFunction((-y, x)) * exp(-1 * rsqr)\n",
    "             for a in [aneg, apos]]\n",
    "pre_exact = [x**3, x**3 - gammaf]\n",
    "\n",
    "\n",
    "# Some helper expressions to compute the r.h.s. of the Stokes system for\n",
    "# a given solution:\n",
    "def Coef_Grad(v):\n",
    "    func = tuple([v[i].Diff(w) for w in [x, y] for i in [0, 1]])\n",
    "    return CoefficientFunction(func, dims=(d, d)).trans\n",
    "\n",
    "\n",
    "def Coef_Eps(v):\n",
    "    return 0.5 * (Coef_Grad(v) + Coef_Grad(v).trans)\n",
    "\n",
    "\n",
    "def Coef_Div(v):\n",
    "    func = tuple([sum([v[i, j].Diff(w) for j, w in [(0, x), (1, y)]])\n",
    "                  for i in range(d)])\n",
    "    return CoefficientFunction(func)\n",
    "\n",
    "\n",
    "# Manufactured right-hand side:\n",
    "coef_g = [Coef_Div(-2 * mu[i] * Coef_Eps(vel_exact[i])\n",
    "                   + pre_exact[i] * Id(d)) for i in [0, 1]]\n",
    "\n"
   ]
  }
 ],
 "metadata": {
  "kernelspec": {
   "display_name": "Python 3",
   "language": "python",
   "name": "python3"
  },
  "language_info": {
   "codemirror_mode": {
    "name": "ipython",
    "version": 3
   },
   "file_extension": ".py",
   "mimetype": "text/x-python",
   "name": "python",
   "nbconvert_exporter": "python",
   "pygments_lexer": "ipython3",
   "version": "3.8.10"
  }
 },
 "nbformat": 4,
 "nbformat_minor": 5
}
