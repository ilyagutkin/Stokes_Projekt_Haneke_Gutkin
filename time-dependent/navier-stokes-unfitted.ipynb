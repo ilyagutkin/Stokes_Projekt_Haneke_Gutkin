{
 "cells": [
  {
   "cell_type": "code",
   "execution_count": 1,
   "id": "6175f7b6",
   "metadata": {},
   "outputs": [
    {
     "name": "stdout",
     "output_type": "stream",
     "text": [
      "importing ngsxfem-2.1.2405\n"
     ]
    }
   ],
   "source": [
    "from netgen.geom2d import SplineGeometry\n",
    "from ngsolve import *\n",
    "from ngsolve.internal import *\n",
    "import ngsolve\n",
    "from xfem import *"
   ]
  },
  {
   "cell_type": "code",
   "execution_count": 2,
   "id": "8b9f9c91",
   "metadata": {},
   "outputs": [
    {
     "data": {
      "application/vnd.jupyter.widget-view+json": {
       "model_id": "dc7de3f2e9854209bb6cf09cb01e5850",
       "version_major": 2,
       "version_minor": 0
      },
      "text/plain": [
       "WebGuiWidget(layout=Layout(height='500px', width='100%'), value={'gui_settings': {}, 'ngsolve_version': '6.2.2…"
      ]
     },
     "metadata": {},
     "output_type": "display_data"
    },
    {
     "data": {
      "text/plain": [
       "BaseWebGuiScene"
      ]
     },
     "execution_count": 2,
     "metadata": {},
     "output_type": "execute_result"
    }
   ],
   "source": [
    "maxh = 0.2\n",
    "# Finite element space order\n",
    "order = 2\n",
    "# Stabilization parameter for ghost-penalty\n",
    "gamma_stab = 100\n",
    "# Stabilization parameter for Nitsche\n",
    "lambda_nitsche = 10 * order * order\n",
    "\n",
    "r = sqrt(x**2 + y**2)\n",
    "levelset = r-1\n",
    "\n",
    "beta0 =1\n",
    "beta1 = 1\n",
    "beta2 = 1\n",
    "beta3 = 1\n",
    "square = SplineGeometry()\n",
    "square.AddRectangle((-1.25, -1.25), (1.25, 1.25), bc=1)\n",
    "ngmesh = square.GenerateMesh(maxh=maxh)\n",
    "mesh = Mesh(ngmesh)\n",
    "Draw(mesh)"
   ]
  },
  {
   "cell_type": "code",
   "execution_count": 3,
   "id": "cf696e88",
   "metadata": {},
   "outputs": [],
   "source": [
    "lsetp1 = GridFunction(H1(mesh))\n",
    "InterpolateToP1(levelset,lsetp1)# Element, facet and dof marking w.r.t. boundary approximation with lsetp1:\n",
    "ci = CutInfo(mesh, lsetp1)\n",
    "hasneg = ci.GetElementsOfType(HASNEG)\n",
    "neg = ci.GetElementsOfType(NEG)\n",
    "hasif = ci.GetElementsOfType(IF)\n",
    "haspos = ci.GetElementsOfType(HASPOS)\n",
    "ba_facets = GetFacetsWithNeighborTypes(mesh, a=haspos, b=any)\n",
    "patch_elements = ci.GetElementsOfType(ANY)\n",
    "#cut_elements = ci.GetElementsOfType(HASIF)  \n",
    "\n",
    "\n",
    "interior_facets = GetFacetsWithNeighborTypes(mesh, a=neg, b=neg)\n",
    "interface_facet_set = GetFacetsWithNeighborTypes(mesh, a=hasif, b=hasneg)\n",
    "\n",
    "h = specialcf.mesh_size\n",
    "n = Normalize(grad(lsetp1))\n",
    "\n",
    "# integration domains:\n",
    "dx = dCut(lsetp1, NEG, definedonelements=hasneg)\n",
    "ds = dCut(lsetp1, IF, definedonelements=hasif)\n",
    "\n",
    "dw = dFacetPatch(definedonelements=ba_facets)\n",
    "dw_int = dFacetPatch(definedonelements=interior_facets)\n",
    "dw_interface = dFacetPatch(definedonelements=interface_facet_set)\n"
   ]
  },
  {
   "cell_type": "code",
   "execution_count": 4,
   "id": "bae3db17",
   "metadata": {},
   "outputs": [
    {
     "name": "stdout",
     "output_type": "stream",
     "text": [
      "webgui discontinuous vis only for scalar functions a.t.m., switching to IfPos variant\n"
     ]
    },
    {
     "data": {
      "application/vnd.jupyter.widget-view+json": {
       "model_id": "33e3189386c448009e09a5396bb11f5f",
       "version_major": 2,
       "version_minor": 0
      },
      "text/plain": [
       "WebGuiWidget(layout=Layout(height='500px', width='100%'), value={'gui_settings': {}, 'ngsolve_version': '6.2.2…"
      ]
     },
     "metadata": {},
     "output_type": "display_data"
    },
    {
     "data": {
      "application/vnd.jupyter.widget-view+json": {
       "model_id": "d1bffd11546648b59497b92481fb60b4",
       "version_major": 2,
       "version_minor": 0
      },
      "text/plain": [
       "WebGuiWidget(layout=Layout(height='500px', width='100%'), value={'gui_settings': {}, 'ngsolve_version': '6.2.2…"
      ]
     },
     "metadata": {},
     "output_type": "display_data"
    },
    {
     "data": {
      "text/plain": [
       "BaseWebGuiScene"
      ]
     },
     "execution_count": 4,
     "metadata": {},
     "output_type": "execute_result"
    }
   ],
   "source": [
    "V = VectorH1(mesh, order=order,dgjumps=True)\n",
    "V = Compress(V, GetDofsOfElements(V,hasneg))\n",
    "Q = H1(mesh, order=order-1)\n",
    "Q = Compress(Q, GetDofsOfElements(Q,hasneg))\n",
    "Z = NumberSpace(mesh)\n",
    "X = V*Q*Z\n",
    "(u,p,z),(v,q,y) = X.TnT()\n",
    "gfu = GridFunction(X)\n",
    "\n",
    "def jump(f):\n",
    "    return f - f.Other()\n",
    "def jumpn(f):\n",
    "    n = Normalize(grad(lsetp1))\n",
    "    return Grad(f)*n - Grad(f).Other()*n\n",
    "\n",
    "a = BilinearForm(X)\n",
    "stokes = InnerProduct(Grad(u), Grad(v))*dx + div(u)*q*dx + div(v)*p*dx\n",
    "stokes += -(Grad(u)*n * v + Grad(v)*n * u) * ds + gamma_stab / h * u * v * ds #nitzshe stabilization\n",
    "stokes += -(q*n * u + p*n * v) * ds\n",
    "stokes += p*y *dx + q *z*dx\n",
    "stokes += beta2* InnerProduct(jump(Grad(u)), jump(Grad(v))) * dw_interface #velocity ghost penalty\n",
    "stokes += -beta0 * InnerProduct(jump(p), jump(q)) * dw_interface #velocity ghost penalty\n",
    "a += stokes \n",
    "a.Assemble()\n",
    "#a.mat += a_vel.mat\n",
    "\n",
    "f = CF((4*y,x))\n",
    "rhs = LinearForm(X)  # oder f*v*dx mit f gegeben\n",
    "rhs += InnerProduct(f, v)* dx\n",
    "rhs.Assemble()\n",
    "\n",
    "gfu.vec.data = a.mat.Inverse(X.FreeDofs()) * rhs.vec\n",
    "\n",
    "#l2error.append(sqrt(Integrate((gfu - exact)**2*dx, mesh)))\n",
    "#Draw(gfu.components[0], mesh, \"u\")\n",
    "#Draw(gfu.components[1], mesh, \"p\")\n",
    "\n",
    "DrawDC(lsetp1,gfu.components[0], CF((0,0)), mesh, \"u\")\n",
    "DrawDC(lsetp1,gfu.components[1], 0, mesh, \"p\", min = -0.1, max = 0.1, autoscale=False)\n"
   ]
  },
  {
   "cell_type": "code",
   "execution_count": 5,
   "id": "4c73a79e",
   "metadata": {},
   "outputs": [
    {
     "name": "stdout",
     "output_type": "stream",
     "text": [
      "webgui discontinuous vis only for scalar functions a.t.m., switching to IfPos variant\n"
     ]
    },
    {
     "data": {
      "application/vnd.jupyter.widget-view+json": {
       "model_id": "dc3719bccca54b44bea63e52a816aff9",
       "version_major": 2,
       "version_minor": 0
      },
      "text/plain": [
       "WebGuiWidget(layout=Layout(height='500px', width='100%'), value={'gui_settings': {}, 'ngsolve_version': '6.2.2…"
      ]
     },
     "metadata": {},
     "output_type": "display_data"
    },
    {
     "data": {
      "application/vnd.jupyter.widget-view+json": {
       "model_id": "3ca3e30c91d74e1f9c96e3a30e775ec8",
       "version_major": 2,
       "version_minor": 0
      },
      "text/plain": [
       "WebGuiWidget(layout=Layout(height='500px', width='100%'), value={'gui_settings': {}, 'ngsolve_version': '6.2.2…"
      ]
     },
     "metadata": {},
     "output_type": "display_data"
    }
   ],
   "source": [
    "sceneu =DrawDC(lsetp1,gfu.components[0], CF((0,0)), mesh, \"u\")\n",
    "scenep = DrawDC(lsetp1,gfu.components[1], 0, mesh, \"p\", min = -0.1, max = 0.1, autoscale=False)"
   ]
  },
  {
   "cell_type": "code",
   "execution_count": 6,
   "id": "9e2bac4a",
   "metadata": {},
   "outputs": [
    {
     "name": "stdout",
     "output_type": "stream",
     "text": [
      "<class 'ngsolve.comp.SumOfIntegrals'>\n"
     ]
    }
   ],
   "source": [
    "dt = 0.001\n",
    "print(type(stokes))\n",
    "# matrix for implicit part of IMEX(1) scheme:\n",
    "mstar = BilinearForm(X)\n",
    "mstar += 1/dt *InnerProduct(u,v)*dx + stokes\n",
    "mstar.Assemble()\n",
    "inv = mstar.mat.Inverse(X.FreeDofs())\n",
    "\n",
    "conv = BilinearForm(X, nonassemble = True)\n",
    "conv += (Grad(u) * u) * v * dx\n",
    "\n"
   ]
  },
  {
   "cell_type": "code",
   "execution_count": 7,
   "id": "cece3bbc",
   "metadata": {},
   "outputs": [
    {
     "name": "stdout",
     "output_type": "stream",
     "text": [
      "t= 0craete bilinearformapplication\n",
      "t= 0.999000000000000876"
     ]
    }
   ],
   "source": [
    "tend = 0\n",
    "gfut = GridFunction(gfu.space,multidim=0)\n",
    "\n",
    "tend += 1\n",
    "gfut.AddMultiDimComponent(gfu.vec)\n",
    "t = 0; cnt = 0\n",
    "while t < tend-0.5*dt:\n",
    "    print (\"\\rt=\", t, end=\"\")\n",
    "\n",
    "    conv.Assemble()\n",
    "    res = (a.mat + conv.mat)* gfu.vec\n",
    "    gfu.vec.data -=  inv * res\n",
    "\n",
    "    t = t + dt; cnt += 1\n",
    "    sceneu.Redraw()\n",
    "    scenep.Redraw()\n",
    "    if cnt % 50 == 0:\n",
    "        gfut.AddMultiDimComponent(gfu.vec)"
   ]
  },
  {
   "cell_type": "code",
   "execution_count": 8,
   "id": "29a2b6de",
   "metadata": {},
   "outputs": [
    {
     "name": "stdout",
     "output_type": "stream",
     "text": [
      "webgui discontinuous vis only for scalar functions a.t.m., switching to IfPos variant\n"
     ]
    },
    {
     "data": {
      "application/vnd.jupyter.widget-view+json": {
       "model_id": "bc7708e604c644a79e47cd84b2df5ca6",
       "version_major": 2,
       "version_minor": 0
      },
      "text/plain": [
       "WebGuiWidget(layout=Layout(height='500px', width='100%'), value={'gui_settings': {}, 'ngsolve_version': '6.2.2…"
      ]
     },
     "metadata": {},
     "output_type": "display_data"
    },
    {
     "data": {
      "application/vnd.jupyter.widget-view+json": {
       "model_id": "ba7663c5cfd1469baeec93c7a694f0c0",
       "version_major": 2,
       "version_minor": 0
      },
      "text/plain": [
       "WebGuiWidget(layout=Layout(height='500px', width='100%'), value={'gui_settings': {}, 'ngsolve_version': '6.2.2…"
      ]
     },
     "metadata": {},
     "output_type": "display_data"
    },
    {
     "data": {
      "application/vnd.jupyter.widget-view+json": {
       "model_id": "a6cf0bc1971e4dd9a2d063da98991036",
       "version_major": 2,
       "version_minor": 0
      },
      "text/plain": [
       "WebGuiWidget(layout=Layout(height='500px', width='100%'), value={'gui_settings': {}, 'ngsolve_version': '6.2.2…"
      ]
     },
     "metadata": {},
     "output_type": "display_data"
    },
    {
     "data": {
      "text/plain": [
       "BaseWebGuiScene"
      ]
     },
     "execution_count": 8,
     "metadata": {},
     "output_type": "execute_result"
    }
   ],
   "source": [
    "DrawDC (lsetp1,gfut.components[0],CF((0,0)), mesh, interpolate_multidim=True, animate=True,\n",
    "       vectors = True)\n",
    "Draw (gfut.components[1], mesh, interpolate_multidim=True, animate=True,\n",
    "      min=-0.3, max=0.3, autoscale=False)\n",
    "DrawDC (lsetp1,gfut.components[1],0, mesh, min = -0.1, max = 0.1, autoscale=False ,interpolate_multidim=True, animate=True,\n",
    "       vectors = True)"
   ]
  }
 ],
 "metadata": {
  "kernelspec": {
   "display_name": "Python 3",
   "language": "python",
   "name": "python3"
  },
  "language_info": {
   "codemirror_mode": {
    "name": "ipython",
    "version": 3
   },
   "file_extension": ".py",
   "mimetype": "text/x-python",
   "name": "python",
   "nbconvert_exporter": "python",
   "pygments_lexer": "ipython3",
   "version": "3.8.10"
  }
 },
 "nbformat": 4,
 "nbformat_minor": 5
}
