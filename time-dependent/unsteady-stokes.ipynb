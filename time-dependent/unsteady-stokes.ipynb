{
 "cells": [
  {
   "cell_type": "code",
   "execution_count": 49,
   "id": "ad198f52",
   "metadata": {},
   "outputs": [],
   "source": [
    "from netgen.geom2d import SplineGeometry\n",
    "from ngsolve import *\n",
    "from ngsolve.internal import *\n",
    "import ngsolve\n",
    "from xfem import *\n",
    "import numpy as np"
   ]
  },
  {
   "cell_type": "code",
   "execution_count": 50,
   "id": "b8ecdba3",
   "metadata": {},
   "outputs": [
    {
     "data": {
      "application/vnd.jupyter.widget-view+json": {
       "model_id": "f537a8712ed540058483dc77581a4875",
       "version_major": 2,
       "version_minor": 0
      },
      "text/plain": [
       "WebGuiWidget(layout=Layout(height='500px', width='100%'), value={'gui_settings': {}, 'ngsolve_version': '6.2.2…"
      ]
     },
     "metadata": {},
     "output_type": "display_data"
    },
    {
     "data": {
      "application/vnd.jupyter.widget-view+json": {
       "model_id": "0f68bee455de4d998e6d6a6a3ab2b76a",
       "version_major": 2,
       "version_minor": 0
      },
      "text/plain": [
       "WebGuiWidget(layout=Layout(height='500px', width='100%'), value={'gui_settings': {}, 'ngsolve_version': '6.2.2…"
      ]
     },
     "metadata": {},
     "output_type": "display_data"
    },
    {
     "data": {
      "application/vnd.jupyter.widget-view+json": {
       "model_id": "81f398d540294e7584e83088ccf8f4b8",
       "version_major": 2,
       "version_minor": 0
      },
      "text/plain": [
       "WebGuiWidget(layout=Layout(height='500px', width='100%'), value={'gui_settings': {}, 'ngsolve_version': '6.2.2…"
      ]
     },
     "metadata": {},
     "output_type": "display_data"
    },
    {
     "data": {
      "application/vnd.jupyter.widget-view+json": {
       "model_id": "a7703f7ab2f240d8897619df0dbaa8cf",
       "version_major": 2,
       "version_minor": 0
      },
      "text/plain": [
       "WebGuiWidget(layout=Layout(height='500px', width='100%'), value={'gui_settings': {}, 'ngsolve_version': '6.2.2…"
      ]
     },
     "metadata": {},
     "output_type": "display_data"
    },
    {
     "data": {
      "application/vnd.jupyter.widget-view+json": {
       "model_id": "4bfd304f8c7f47348a647b344ea7ec63",
       "version_major": 2,
       "version_minor": 0
      },
      "text/plain": [
       "WebGuiWidget(layout=Layout(height='500px', width='100%'), value={'gui_settings': {}, 'ngsolve_version': '6.2.2…"
      ]
     },
     "metadata": {},
     "output_type": "display_data"
    },
    {
     "data": {
      "application/vnd.jupyter.widget-view+json": {
       "model_id": "b35ee368dc454625b7584be021bfaa78",
       "version_major": 2,
       "version_minor": 0
      },
      "text/plain": [
       "WebGuiWidget(layout=Layout(height='500px', width='100%'), value={'gui_settings': {}, 'ngsolve_version': '6.2.2…"
      ]
     },
     "metadata": {},
     "output_type": "display_data"
    },
    {
     "data": {
      "application/vnd.jupyter.widget-view+json": {
       "model_id": "a80656fcec5d41f8a0ca7cca9212472a",
       "version_major": 2,
       "version_minor": 0
      },
      "text/plain": [
       "WebGuiWidget(layout=Layout(height='500px', width='100%'), value={'gui_settings': {}, 'ngsolve_version': '6.2.2…"
      ]
     },
     "metadata": {},
     "output_type": "display_data"
    },
    {
     "data": {
      "application/vnd.jupyter.widget-view+json": {
       "model_id": "a6f6a5726e984cf0bfe2de2831753c09",
       "version_major": 2,
       "version_minor": 0
      },
      "text/plain": [
       "WebGuiWidget(layout=Layout(height='500px', width='100%'), value={'gui_settings': {}, 'ngsolve_version': '6.2.2…"
      ]
     },
     "metadata": {},
     "output_type": "display_data"
    },
    {
     "data": {
      "application/vnd.jupyter.widget-view+json": {
       "model_id": "5ad6184896e44d92ad1bf7f24d7de925",
       "version_major": 2,
       "version_minor": 0
      },
      "text/plain": [
       "WebGuiWidget(layout=Layout(height='500px', width='100%'), value={'gui_settings': {}, 'ngsolve_version': '6.2.2…"
      ]
     },
     "metadata": {},
     "output_type": "display_data"
    },
    {
     "data": {
      "application/vnd.jupyter.widget-view+json": {
       "model_id": "31d10a8aafee4eddb2e21f03e2c795b0",
       "version_major": 2,
       "version_minor": 0
      },
      "text/plain": [
       "WebGuiWidget(layout=Layout(height='500px', width='100%'), value={'gui_settings': {}, 'ngsolve_version': '6.2.2…"
      ]
     },
     "metadata": {},
     "output_type": "display_data"
    }
   ],
   "source": [
    "maxh = 0.1\n",
    "# Finite element space order\n",
    "order = 2\n",
    "# Stabilization parameter for ghost-penalty\n",
    "gamma_stab = 100\n",
    "# Stabilization parameter for Nitsche\n",
    "lambda_nitsche = 10 * order * order\n",
    "r = 0.5 # Radius of the circle\n",
    "vel = 0.3 # Velocity of the circle\n",
    "beta0 =1\n",
    "beta1 = 1\n",
    "beta2 = 1\n",
    "beta3 = 1\n",
    "square = SplineGeometry()\n",
    "square.AddRectangle((-1.25, -1.25), (1.25, 1.25), bc=1)\n",
    "ngmesh = square.GenerateMesh(maxh=maxh)\n",
    "mesh = Mesh(ngmesh)\n",
    "w = vel # maximal normalspeed of the circle\n",
    "dt = 0.1 # time step size\n",
    "\n",
    "for t in range(0, 5):\n",
    "    delta = w*dt*3\n",
    "\n",
    "    lsetp1 = GridFunction(H1(mesh))\n",
    "    levelset = CF(sqrt((x-vel*t)**2 + y**2))-r\n",
    "    InterpolateToP1(levelset,lsetp1)\n",
    "\n",
    "    lsetp1_extended_plus = GridFunction(H1(mesh))\n",
    "    levelset_extended_plus = CF(sqrt((x-vel*t)**2 + y**2))-(r+delta)\n",
    "    InterpolateToP1(levelset_extended_plus, lsetp1_extended_plus)\n",
    "\n",
    "    lsetp1_extended_minus = GridFunction(H1(mesh))\n",
    "    levelset_extended_minus = CF(sqrt((x-vel*t)**2 + y**2))-(r-delta)\n",
    "    InterpolateToP1(levelset_extended_minus, lsetp1_extended_minus)\n",
    "\n",
    "    ci = CutInfo(mesh, lsetp1)\n",
    "    hasneg = ci.GetElementsOfType(HASNEG)\n",
    "    neg = ci.GetElementsOfType(NEG)\n",
    "    hasif = ci.GetElementsOfType(IF)\n",
    "    haspos = ci.GetElementsOfType(HASPOS)\n",
    "\n",
    "    ci1 = CutInfo(mesh, lsetp1_extended_plus)\n",
    "    hasneg1 = ci1.GetElementsOfType(HASNEG)\n",
    "    neg1 = ci1.GetElementsOfType(NEG)\n",
    "    hasif1 = ci1.GetElementsOfType(IF)\n",
    "    haspos1 = ci1.GetElementsOfType(HASPOS)\n",
    "\n",
    "    ci2 = CutInfo(mesh, lsetp1_extended_minus)\n",
    "    hasneg2 = ci2.GetElementsOfType(HASNEG)\n",
    "    neg2 = ci2.GetElementsOfType(NEG)\n",
    "    hasif2 = ci2.GetElementsOfType(IF)\n",
    "    haspos2 = ci2.GetElementsOfType(HASPOS)\n",
    "\n",
    "    ba_diff = BitArray(len(hasneg1))\n",
    "    ba_diff[:] = hasneg1\n",
    "    ba_diff &= ~neg2\n",
    "\n",
    "    interior_facets = GetFacetsWithNeighborTypes(mesh, a = ba_diff, b=ba_diff)\n",
    "\n",
    "    \n",
    "    DrawDC(lsetp1,CF(1), CF(0), mesh, \"u\")\n",
    "    Draw(BitArrayCF(ba_diff),mesh,\"elements_extended_\"+str(dt)) #Drawing the Facettpatch for the ghostpenalty\n",
    "    #Draw(BitArrayCF(interior_facets), mesh, \"interior_facets_\"+str(dt)) #Drawing the Facettpatch for the ghostpenalty\n",
    "    #Draw(lsetp1, mesh, \"levelset_\"+str(dt)) \n",
    "    #Draw(BitArrayCF(hasneg),mesh, \"levelset_\"+str(t))"
   ]
  },
  {
   "cell_type": "code",
   "execution_count": 51,
   "id": "67fe43b0",
   "metadata": {},
   "outputs": [],
   "source": [
    "from ngsolve import Parameter\n",
    "t = Parameter(0)\n",
    "c = CF((x-t)**2 + y**2)\n",
    "uexact = CF((-2*y*cos(c),2*(x-t)*cos(c)))\n",
    "\n",
    "laplace_uexact = CF((-16*y*sin(c)-8*y*c*cos(c), 16*(x-t)*sin(c)+8*(x-t)*c*cos(c)))\n",
    "ut_exact = CF((-4*y*(t-x)*sin(c), -2*cos(c)+4*sin(c)*(x-t)**2))\n",
    "\n",
    "pressure = 0\n",
    "f = laplace_uexact + ut_exact"
   ]
  },
  {
   "cell_type": "code",
   "execution_count": 52,
   "id": "4e63e94a",
   "metadata": {},
   "outputs": [
    {
     "name": "stdout",
     "output_type": "stream",
     "text": [
      "webgui discontinuous vis only for scalar functions a.t.m., switching to IfPos variant\n"
     ]
    },
    {
     "data": {
      "application/vnd.jupyter.widget-view+json": {
       "model_id": "737dab7695f24ff09ad8484fe9a643b8",
       "version_major": 2,
       "version_minor": 0
      },
      "text/plain": [
       "WebGuiWidget(layout=Layout(height='500px', width='100%'), value={'gui_settings': {}, 'ngsolve_version': '6.2.2…"
      ]
     },
     "metadata": {},
     "output_type": "display_data"
    },
    {
     "data": {
      "application/vnd.jupyter.widget-view+json": {
       "model_id": "9d1e09bff3b744169da6b22558d30550",
       "version_major": 2,
       "version_minor": 0
      },
      "text/plain": [
       "WebGuiWidget(layout=Layout(height='500px', width='100%'), value={'gui_settings': {}, 'ngsolve_version': '6.2.2…"
      ]
     },
     "metadata": {},
     "output_type": "display_data"
    }
   ],
   "source": [
    "V = VectorH1(mesh, order=order,dgjumps=True)\n",
    "Q = H1(mesh, order=order-1)\n",
    "Z = NumberSpace(mesh)\n",
    "\n",
    "X = V*Q*Z\n",
    "(u,p,z),(v,q,z1) = X.TnT()\n",
    "gfu = GridFunction(X)\n",
    "gfut = GridFunction(gfu.space,multidim=0)\n",
    "gfut.AddMultiDimComponent(gfu.vec)\n",
    "h = specialcf.mesh_size\n",
    "n = Normalize(grad(lsetp1))\n",
    "\n",
    "sceneu = DrawDC(lsetp1,gfu.components[0], CF((0,0)), mesh, \"u\")\n",
    "scenep = DrawDC(lsetp1,gfu.components[1], 0, mesh, \"p\", min = -0.1, max = 0.1, autoscale=False)\n",
    "\n",
    "u0 = CF((2*pi*y*cos(pi*(x**2+y**2)), -2*pi*x*cos(pi*(x**2+y**2))))\n",
    "ud = CF((0,0))\n",
    "\n",
    "def jump(f):\n",
    "    return f - f.Other()\n",
    "def jumpn(f):\n",
    "    n = Normalize(grad(lsetp1))\n",
    "    return Grad(f)*n - Grad(f).Other()*n"
   ]
  },
  {
   "cell_type": "code",
   "execution_count": null,
   "id": "24b357cd",
   "metadata": {},
   "outputs": [
    {
     "name": "stdout",
     "output_type": "stream",
     "text": [
      "t= ParameterCF, val = 0\n"
     ]
    },
    {
     "name": "stderr",
     "output_type": "stream",
     "text": [
      "used dof inconsistency\n",
      "(silence this warning by setting BilinearForm(...check_unused=False) )\n"
     ]
    },
    {
     "name": "stdout",
     "output_type": "stream",
     "text": [
      "t= 0.3 l2error : 0.6641060725853157\n",
      "t= ParameterCF, val = 0.3\n"
     ]
    },
    {
     "name": "stderr",
     "output_type": "stream",
     "text": [
      "used dof inconsistency\n",
      "(silence this warning by setting BilinearForm(...check_unused=False) )\n"
     ]
    },
    {
     "name": "stdout",
     "output_type": "stream",
     "text": [
      "t= 0.6 l2error : 0.6790617181832828\n",
      "t= ParameterCF, val = 0.6\n"
     ]
    },
    {
     "name": "stderr",
     "output_type": "stream",
     "text": [
      "used dof inconsistency\n",
      "(silence this warning by setting BilinearForm(...check_unused=False) )\n"
     ]
    },
    {
     "name": "stdout",
     "output_type": "stream",
     "text": [
      "t= 0.8999999999999999 l2error : 0.8238978372422813\n",
      "t= ParameterCF, val = 0.9\n"
     ]
    },
    {
     "name": "stderr",
     "output_type": "stream",
     "text": [
      "used dof inconsistency\n",
      "(silence this warning by setting BilinearForm(...check_unused=False) )\n"
     ]
    },
    {
     "name": "stdout",
     "output_type": "stream",
     "text": [
      "t= 1.2 l2error : 0.9032703844136892\n",
      "t= ParameterCF, val = 1.2\n"
     ]
    },
    {
     "name": "stderr",
     "output_type": "stream",
     "text": [
      "used dof inconsistency\n",
      "(silence this warning by setting BilinearForm(...check_unused=False) )\n"
     ]
    },
    {
     "name": "stdout",
     "output_type": "stream",
     "text": [
      "t= 1.5 l2error : 0.8613225885640731\n",
      "t= ParameterCF, val = 1.5\n"
     ]
    },
    {
     "name": "stderr",
     "output_type": "stream",
     "text": [
      "used dof inconsistency\n",
      "(silence this warning by setting BilinearForm(...check_unused=False) )\n"
     ]
    },
    {
     "name": "stdout",
     "output_type": "stream",
     "text": [
      "t= 1.8 l2error : 0.8904220779128853\n",
      "t= ParameterCF, val = 1.8\n"
     ]
    },
    {
     "name": "stderr",
     "output_type": "stream",
     "text": [
      "used dof inconsistency\n",
      "(silence this warning by setting BilinearForm(...check_unused=False) )\n"
     ]
    },
    {
     "name": "stdout",
     "output_type": "stream",
     "text": [
      "t= 2.1 l2error : 1.3294020339040837\n",
      "t= ParameterCF, val = 2.1\n"
     ]
    },
    {
     "name": "stderr",
     "output_type": "stream",
     "text": [
      "used dof inconsistency\n",
      "(silence this warning by setting BilinearForm(...check_unused=False) )\n"
     ]
    },
    {
     "name": "stdout",
     "output_type": "stream",
     "text": [
      "t= 2.4 l2error : 1.8994966917987535\n",
      "t= ParameterCF, val = 2.4\n"
     ]
    },
    {
     "name": "stderr",
     "output_type": "stream",
     "text": [
      "used dof inconsistency\n",
      "(silence this warning by setting BilinearForm(...check_unused=False) )\n"
     ]
    },
    {
     "name": "stdout",
     "output_type": "stream",
     "text": [
      "t= 2.6999999999999997 l2error : 2.136169409451458\n",
      "t= ParameterCF, val = 2.7\n"
     ]
    },
    {
     "name": "stderr",
     "output_type": "stream",
     "text": [
      "used dof inconsistency\n",
      "(silence this warning by setting BilinearForm(...check_unused=False) )\n"
     ]
    },
    {
     "name": "stdout",
     "output_type": "stream",
     "text": [
      "t= 2.9999999999999996 l2error : 2.206371522072085\n",
      "t= ParameterCF, val = 3\n"
     ]
    },
    {
     "name": "stderr",
     "output_type": "stream",
     "text": [
      "used dof inconsistency\n",
      "(silence this warning by setting BilinearForm(...check_unused=False) )\n"
     ]
    },
    {
     "name": "stdout",
     "output_type": "stream",
     "text": [
      "t= 3.2999999999999994 l2error : 2.215124641671981\n",
      "t= ParameterCF, val = 3.3\n"
     ]
    },
    {
     "name": "stderr",
     "output_type": "stream",
     "text": [
      "used dof inconsistency\n",
      "(silence this warning by setting BilinearForm(...check_unused=False) )\n"
     ]
    },
    {
     "name": "stdout",
     "output_type": "stream",
     "text": [
      "t= 3.599999999999999 l2error : 2.3103885577738428\n",
      "t= ParameterCF, val = 3.6\n"
     ]
    },
    {
     "name": "stderr",
     "output_type": "stream",
     "text": [
      "used dof inconsistency\n",
      "(silence this warning by setting BilinearForm(...check_unused=False) )\n"
     ]
    },
    {
     "name": "stdout",
     "output_type": "stream",
     "text": [
      "t= 3.899999999999999 l2error : 2.076071772287223\n",
      "t= ParameterCF, val = 3.9\n",
      "t= 4.199999999999999 l2error : 2.176680179264626\n",
      "t= ParameterCF, val = 4.2\n"
     ]
    },
    {
     "name": "stderr",
     "output_type": "stream",
     "text": [
      "used dof inconsistency\n",
      "(silence this warning by setting BilinearForm(...check_unused=False) )\n",
      "used dof inconsistency\n",
      "(silence this warning by setting BilinearForm(...check_unused=False) )\n",
      "used dof inconsistency\n",
      "(silence this warning by setting BilinearForm(...check_unused=False) )\n"
     ]
    },
    {
     "name": "stdout",
     "output_type": "stream",
     "text": [
      "t= 4.499999999999999 l2error : 1.7421783411806897\n",
      "t= ParameterCF, val = 4.5\n",
      "t= 4.799999999999999 l2error : 2.0573377522367147\n",
      "t= ParameterCF, val = 4.8\n"
     ]
    },
    {
     "name": "stderr",
     "output_type": "stream",
     "text": [
      "used dof inconsistency\n",
      "(silence this warning by setting BilinearForm(...check_unused=False) )\n"
     ]
    },
    {
     "name": "stdout",
     "output_type": "stream",
     "text": [
      "t= 5.099999999999999 l2error : 1.1867708814767608\n"
     ]
    },
    {
     "data": {
      "application/vnd.jupyter.widget-view+json": {
       "model_id": "ea9c703f99934af084e1c5523fe12bca",
       "version_major": 2,
       "version_minor": 0
      },
      "text/plain": [
       "WebGuiWidget(layout=Layout(height='500px', width='100%'), value={'gui_settings': {}, 'ngsolve_version': '6.2.2…"
      ]
     },
     "metadata": {},
     "output_type": "display_data"
    },
    {
     "data": {
      "text/plain": [
       "BaseWebGuiScene"
      ]
     },
     "execution_count": 53,
     "metadata": {},
     "output_type": "execute_result"
    }
   ],
   "source": [
    "from ngsolve import x, y\n",
    "from ngsolve import CoefficientFunction, Id\n",
    "\n",
    "t1 = 0.0\n",
    "dt = 0.1\n",
    "tend = 5.0\n",
    "nu = 0.1 # viscosity\n",
    "cnt = 0\n",
    "\n",
    "def levelset_function(t):\n",
    "    return CF(sqrt((x-vel*t)**2 + y**2)-r)\n",
    "while t1 < tend:\n",
    "    t.Set(t1)\n",
    "    print (\"\\rt=\", t, end=\"\")\n",
    "    #print (\"t=\", t, end=\"\")\n",
    "    #print (\"\\rt=\", t, end=\"\")\n",
    "    delta = w*dt*3\n",
    "    \n",
    "    lsetp1 = GridFunction(H1(mesh))\n",
    "    levelset = CF(sqrt((x-vel*t)**2 + y**2)-r)\n",
    "    #levelset = levelset_function(t)\n",
    "    InterpolateToP1(levelset,lsetp1)\n",
    "    #tp1.Set(levelset)\n",
    "\n",
    "    lsetp1_extended_plus = GridFunction(H1(mesh))\n",
    "    levelset_extended_plus = CF(sqrt((x-vel*t)**2 + y**2))-(r+delta)\n",
    "    InterpolateToP1(levelset_extended_plus, lsetp1_extended_plus)\n",
    "    #lsetp1_extended_plus.Set(levelset_extended_plus)\n",
    "\n",
    "    lsetp1_extended_minus = GridFunction(H1(mesh))\n",
    "    levelset_extended_minus = CF(sqrt((x-vel*t)**2 + y**2))-(r-delta)\n",
    "    InterpolateToP1(levelset_extended_minus, lsetp1_extended_minus)\n",
    "    #lsetp1_extended_minus.Set(levelset_extended_minus)\n",
    "\n",
    "    ci = CutInfo(mesh, lsetp1)\n",
    "    hasneg = ci.GetElementsOfType(HASNEG)\n",
    "    neg = ci.GetElementsOfType(NEG)\n",
    "    hasif = ci.GetElementsOfType(IF)\n",
    "    haspos = ci.GetElementsOfType(HASPOS)\n",
    "\n",
    "    ci1 = CutInfo(mesh, lsetp1_extended_plus)\n",
    "    hasneg1 = ci1.GetElementsOfType(HASNEG)\n",
    "    neg1 = ci1.GetElementsOfType(NEG)\n",
    "    hasif1 = ci1.GetElementsOfType(IF)\n",
    "    haspos1 = ci1.GetElementsOfType(HASPOS)\n",
    "\n",
    "    ci2 = CutInfo(mesh, lsetp1_extended_minus)\n",
    "    hasneg2 = ci2.GetElementsOfType(HASNEG)\n",
    "    neg2 = ci2.GetElementsOfType(NEG)\n",
    "    hasif2 = ci2.GetElementsOfType(IF)\n",
    "    haspos2 = ci2.GetElementsOfType(HASPOS)\n",
    "\n",
    "    ba_diff = BitArray(len(hasneg1))\n",
    "    ba_diff[:] = hasneg1\n",
    "    ba_diff &= ~neg2\n",
    "\n",
    "    #interior_facets = GetFacetsWithNeighborTypes(mesh, a = ba_diff, b=ba_diff)\n",
    "    dx = dCut(lsetp1, NEG, definedonelements=hasneg)\n",
    "    ds = dCut(lsetp1, IF, definedonelements=hasif)\n",
    "    dw_interface = dFacetPatch(definedonelements=ba_diff)\n",
    "\n",
    "    a = BilinearForm(X)\n",
    "    stokes = InnerProduct(Grad(u), Grad(v))*dx - div(u)*q*dx - div(v)*p*dx\n",
    "    stokes += -(Grad(u)*n * v + Grad(v)*n * u) * ds + gamma_stab / h * u * v * ds #nitzshe stabilization\n",
    "    stokes += (q*n * u + p*n * v) * ds\n",
    "    stokes += p*z1 *dx + q *z*dx\n",
    "    stokes += 1/nu*beta2*h**-2* InnerProduct(jump(u), jump(v)) * dw_interface #velocity ghost penalty\n",
    "    stokes += nu*beta2*h**-2* InnerProduct(jump(u), jump(v)) * dw_interface #velocity ghost penalty\n",
    "    stokes += -beta0 * InnerProduct(jump(p), jump(q)) * dw_interface #pressure ghost penalty\n",
    "    a += stokes\n",
    "    a += 1/dt * InnerProduct(u, v) * dx # time derivative\n",
    "    a.Assemble()\n",
    "\n",
    "    active_dofs=GetDofsOfElements(X,hasneg1)\n",
    "    inv = a.mat.Inverse(active_dofs)\n",
    "\n",
    "    if t1 == 0:\n",
    "        gfu.components[0].Set(u0)   \n",
    "\n",
    "    res = LinearForm(X)\n",
    "    res += f * v * dx\n",
    "    res += 1/dt*InnerProduct(gfu.components[0], v)*dx\n",
    "    res += ud * q * n*ds -  Grad(v) * n *ud * ds + gamma_stab/h * ud *v*ds\n",
    "    res.Assemble()\n",
    "    gfu.vec.data =  inv * res.vec\n",
    "\n",
    "    t1 = t1 + dt; cnt += 1\n",
    "    \n",
    "    #print(\"t=\", t, \"cnt=\", cnt)\n",
    "    #DrawDC(lsetp1,gfu.components[0], CF((0,0)), mesh, \"u\")\n",
    "    #if cnt % 50 == 0:\n",
    "    sceneu.Redraw()\n",
    "    scenep.Redraw()\n",
    "    gfut.AddMultiDimComponent(gfu.vec)\n",
    "\n",
    "    l2error = sqrt(Integrate( (gfu.components[0] - uexact) ** 2*dx, mesh ))\n",
    "    print(\"t=\", t1, \"l2error :\", l2error)\n",
    "\n",
    "Draw(gfut.components[0], mesh, interpolate_multidim=True, animate=True, vectors =True,)"
   ]
  }
 ],
 "metadata": {
  "kernelspec": {
   "display_name": "Python 3",
   "language": "python",
   "name": "python3"
  },
  "language_info": {
   "codemirror_mode": {
    "name": "ipython",
    "version": 3
   },
   "file_extension": ".py",
   "mimetype": "text/x-python",
   "name": "python",
   "nbconvert_exporter": "python",
   "pygments_lexer": "ipython3",
   "version": "3.8.10"
  }
 },
 "nbformat": 4,
 "nbformat_minor": 5
}
