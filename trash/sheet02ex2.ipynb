{
 "cells": [
  {
   "cell_type": "markdown",
   "id": "b3ca5fd9",
   "metadata": {},
   "source": [
    "# Model Problem on the Unit Disk\n",
    "\n",
    "Let $\\Omega$ be the **unit disk** in $\\mathbb{R}^2$.\n",
    "\n",
    "We want to solve the model problem\n",
    "\n",
    "$$\n",
    "- \\Delta u = f \\quad \\text{in } \\Omega, \\qquad u = u_D \\quad \\text{on } \\partial \\Omega,\n",
    "$$\n",
    "\n",
    "where $\\Omega$ is embedded in a **background domain** $(-1.25,\\ 1.25)^2$.\n",
    "\n",
    "We consider the Dirichlet problem with prescribed boundary data $u_D$ and a right-hand side function $f$.\n",
    "\n"
   ]
  },
  {
   "cell_type": "code",
   "execution_count": 11,
   "id": "0240ef20",
   "metadata": {},
   "outputs": [],
   "source": [
    "from netgen.geom2d import SplineGeometry\n",
    "from ngsolve import *\n",
    "from ngsolve.internal import *\n",
    "import ngsolve\n",
    "from xfem import *"
   ]
  },
  {
   "cell_type": "code",
   "execution_count": 12,
   "id": "a574c92a",
   "metadata": {},
   "outputs": [],
   "source": [
    "maxh = 0.1\n",
    "# Finite element space order\n",
    "order = 1\n",
    "# Stabilization parameter for ghost-penalty\n",
    "gamma_stab = 0.1\n",
    "# Stabilization parameter for Nitsche\n",
    "lambda_nitsche = 10 * order * order"
   ]
  },
  {
   "cell_type": "code",
   "execution_count": 13,
   "id": "e2d2befe",
   "metadata": {},
   "outputs": [
    {
     "data": {
      "application/vnd.jupyter.widget-view+json": {
       "model_id": "7e4e14dec5754d1b81c5bec415facce3",
       "version_major": 2,
       "version_minor": 0
      },
      "text/plain": [
       "WebGuiWidget(layout=Layout(height='500px', width='100%'), value={'gui_settings': {}, 'ngsolve_version': '6.2.2…"
      ]
     },
     "metadata": {},
     "output_type": "display_data"
    },
    {
     "data": {
      "text/plain": [
       "BaseWebGuiScene"
      ]
     },
     "execution_count": 13,
     "metadata": {},
     "output_type": "execute_result"
    }
   ],
   "source": [
    "square = SplineGeometry()\n",
    "square.AddRectangle((-1.25, -1.25), (1.25, 1.25), bc=1)\n",
    "ngmesh = square.GenerateMesh(maxh=maxh)\n",
    "mesh = Mesh(ngmesh)\n",
    "Draw(mesh)"
   ]
  },
  {
   "cell_type": "code",
   "execution_count": 14,
   "id": "867830dd",
   "metadata": {},
   "outputs": [],
   "source": [
    "r = sqrt(x**2 + y**2)\n",
    "levelset = r-1\n",
    "\n",
    "exact = sin(x+y)\n",
    "coeff_f = - (exact.Diff(x).Diff(x) + exact.Diff(y).Diff(y)).Compile()"
   ]
  },
  {
   "cell_type": "code",
   "execution_count": 20,
   "id": "7819d05e",
   "metadata": {},
   "outputs": [],
   "source": [
    "lis = [(0.0,10*order**2), (1.0,10*order**2), (1.0, order**2),(100.0, 10*order**2)]\n",
    "H = [0.2,0.1, 0.05, 0.025, 0.0125]\n",
    "l2error = []\n",
    "for maxh in H:\n",
    "        maxh = maxh\n",
    "        square = SplineGeometry()\n",
    "        square.AddRectangle((-1.25, -1.25), (1.25, 1.25), bc=1)\n",
    "        ngmesh = square.GenerateMesh(maxh=maxh)\n",
    "        mesh = Mesh(ngmesh)\n",
    "\n",
    "        lsetp1 = GridFunction(H1(mesh))\n",
    "        InterpolateToP1(levelset,lsetp1)\n",
    "            # Element, facet and dof marking w.r.t. boundary approximation with lsetp1:\n",
    "        ci = CutInfo(mesh, lsetp1)\n",
    "        hasneg = ci.GetElementsOfType(HASNEG)\n",
    "        neg = ci.GetElementsOfType(NEG)\n",
    "        hasif = ci.GetElementsOfType(IF)\n",
    "        haspos = ci.GetElementsOfType(HASPOS)\n",
    "        ba_facets = GetFacetsWithNeighborTypes(mesh, a=haspos, b=any)\n",
    "        patch_elements = ci.GetElementsOfType(ANY)\n",
    "\n",
    "\n",
    "        #band_elements = hasneg | hasif\n",
    "        #ba_facets = GetFacetsWithNeighborTypes(mesh, a=hasneg, b=hasif)\n",
    "        Vh = H1(mesh, order=order, dirichlet=[], dgjumps=True)\n",
    "        gfu = GridFunction(Vh)\n",
    "        u, v = Vh.TrialFunction(), Vh.TestFunction()\n",
    "        h = specialcf.mesh_size\n",
    "        n = Normalize(grad(lsetp1))\n",
    "\n",
    "            # integration domains:\n",
    "        dx = dCut(lsetp1, NEG, definedonelements=hasneg)\n",
    "        ds = dCut(lsetp1, IF, definedonelements=hasif)\n",
    "        dw = dFacetPatch(definedonelements=ba_facets)\n",
    "        for i in lis:\n",
    "                lambda_nitsche = i[0]\n",
    "                gamma_stab = i[1]\n",
    "\n",
    "                a = BilinearForm(Vh, symmetric=True)\n",
    "                # Diffusion term\n",
    "                a += grad(u) * grad(v) * dx\n",
    "                # Nitsche term\n",
    "                a += -grad(u) * n * v * ds\n",
    "                a += -grad(v) * n * u * ds\n",
    "                a += (lambda_nitsche / h) * u * v * ds\n",
    "                # Ghost penalty stabilization (near the boundary)\n",
    "                a += gamma_stab / h**2 * (u - u.Other()) * (v - v.Other()) * dw\n",
    "\n",
    "                # R.h.s. term:\n",
    "                f = LinearForm(Vh)\n",
    "                f += coeff_f * v * dx\n",
    "                f += exact * (-grad(v) * n + (lambda_nitsche / h) * v) * ds\n",
    "\n",
    "                # Assemble system\n",
    "                a.Assemble()\n",
    "                f.Assemble()\n",
    "\n",
    "                # Solve linear system\n",
    "                gfu.vec.data = a.mat.Inverse(Vh.FreeDofs(),inverse=\"sparsecholesky\") * f.vec\n",
    "                l2error.append(sqrt(Integrate((gfu - exact)**2*dx, mesh)))\n",
    "                #print(\"L2 Error: {0}\".format(l2error), \"meshzise: {0}\".format(maxh), \"lambda_nitsche: {0}\".format(lambda_nitsche), \"gamma_stab: {0}\".format(gamma_stab))"
   ]
  },
  {
   "cell_type": "code",
   "execution_count": 21,
   "id": "c467a5ee",
   "metadata": {},
   "outputs": [
    {
     "name": "stdout",
     "output_type": "stream",
     "text": [
      "0.08119239183651081 0.05809140246549389 0.013209676504594904 0.01616055942337263\n",
      "0.008551514804200154 0.030650677369484566 0.005916475646148908 0.0051087932223570975\n",
      "0.012084489155784613 0.004727411141470108 0.0006268600344721731 0.0014563609118965265\n",
      "0.00044981144533954296 0.0010948853148318588 0.00016014123326247922 0.0003926627148825263\n",
      "0.00011199539534279778 0.00015364487930839748 0.00012085040217367153 0.00010301019031779888\n"
     ]
    }
   ],
   "source": [
    "rows = [l2error[i:i+4] for i in range(0, len(l2error), 4)]\n",
    "\n",
    "# Ausgabe als Tabelle\n",
    "for row in rows:\n",
    "    print(\"{:<10} {:<15} {:<10} {:<10}\".format(*row))"
   ]
  },
  {
   "cell_type": "code",
   "execution_count": null,
   "id": "e705db48",
   "metadata": {},
   "outputs": [
    {
     "data": {
      "application/vnd.jupyter.widget-view+json": {
       "model_id": "772109a995294a52bb4a5ce47e8fe4a5",
       "version_major": 2,
       "version_minor": 0
      },
      "text/plain": [
       "WebGuiWidget(layout=Layout(height='500px', width='100%'), value={'gui_settings': {}, 'ngsolve_version': '6.2.2…"
      ]
     },
     "metadata": {},
     "output_type": "display_data"
    },
    {
     "data": {
      "text/plain": [
       "BaseWebGuiScene"
      ]
     },
     "execution_count": 7,
     "metadata": {},
     "output_type": "execute_result"
    }
   ],
   "source": [
    "# visualization:\n",
    "DrawDC(lsetp1, gfu, 0, mesh, \"uh\")"
   ]
  },
  {
   "cell_type": "code",
   "execution_count": null,
   "id": "e17cad7a",
   "metadata": {},
   "outputs": [],
   "source": [
    "lis = [(0.0,10*order**2), (1.0,10*order**2), (1.0, order**2),(100.0, 10*order**2)]\n",
    "H = [0.2,0.1, 0.05, 0.025, 0.0125, 0.00625]\n",
    "l2error = []\n",
    "for maxh in H:\n",
    "        maxh = maxh\n",
    "        square = SplineGeometry()\n",
    "        square.AddRectangle((-1.25, -1.25), (1.25, 1.25), bc=1)\n",
    "        ngmesh = square.GenerateMesh(maxh=maxh)\n",
    "        mesh = Mesh(ngmesh)\n",
    "\n",
    "        lsetp1 = GridFunction(H1(mesh))\n",
    "        InterpolateToP1(levelset,lsetp1)\n",
    "            # Element, facet and dof marking w.r.t. boundary approximation with lsetp1:\n",
    "        ci = CutInfo(mesh, lsetp1)\n",
    "        hasneg = ci.GetElementsOfType(HASNEG)\n",
    "        hasif = ci.GetElementsOfType(IF)\n",
    "        ba_facets = GetFacetsWithNeighborTypes(mesh, a=hasneg, b=hasif)\n",
    "        Vhbase = H1(mesh, order=order, dirichlet=[], dgjumps=True)\n",
    "        Vh = Restrict(Vhbase, hasneg)\n",
    "        gfu = GridFunction(Vh)\n",
    "        u, v = Vh.TrialFunction(), Vh.TestFunction()\n",
    "        h = specialcf.mesh_size\n",
    "        n = Normalize(grad(lsetp1))\n",
    "\n",
    "            # integration domains:\n",
    "        dx = dCut(lsetp1, NEG, definedonelements=hasneg)\n",
    "        ds = dCut(lsetp1, IF, definedonelements=hasif)\n",
    "        dw = dFacetPatch(definedonelements=ba_facets)\n",
    "        for i in lis:\n",
    "                lambda_nitsche = i[0]\n",
    "                gamma_stab = i[1]\n",
    "\n",
    "                a = BilinearForm(Vh, symmetric=True)\n",
    "                # Diffusion term\n",
    "                a += grad(u) * grad(v) * dx\n",
    "                # Nitsche term\n",
    "                a += -grad(u) * n * v * ds\n",
    "                a += -grad(v) * n * u * ds\n",
    "                a += (lambda_nitsche / h) * u * v * ds\n",
    "                # Ghost penalty stabilization (near the boundary)\n",
    "                a += gamma_stab / h**2 * (u - u.Other()) * (v - v.Other()) * dw\n",
    "\n",
    "                # R.h.s. term:\n",
    "                f = LinearForm(Vh)\n",
    "                f += coeff_f * v * dx\n",
    "                f += exact * (-grad(v) * n + (lambda_nitsche / h) * v) * ds\n",
    "\n",
    "                # Assemble system\n",
    "                a.Assemble()\n",
    "                f.Assemble()\n",
    "\n",
    "                # Solve linear system\n",
    "                gfu.vec.data = a.mat.Inverse(Vh.FreeDofs(),inverse=\"sparsecholesky\") * f.vec\n",
    "                l2error.append(sqrt(Integrate((gfu - exact)**2*dx, mesh)))\n",
    "                #print(\"L2 Error: {0}\".format(l2error), \"meshzise: {0}\".format(maxh), \"lambda_nitsche: {0}\".format(lambda_nitsche), \"gamma_stab: {0}\".format(gamma_stab))"
   ]
  },
  {
   "cell_type": "code",
   "execution_count": null,
   "id": "9c237630",
   "metadata": {},
   "outputs": [
    {
     "name": "stdout",
     "output_type": "stream",
     "text": [
      "0.04768965191994027 0.1595572023060386 0.015432806959200102 0.015139445869359242\n",
      "0.011680241449170663 0.04348443347571346 0.010853841344924195 0.0032566188930135084\n",
      "0.0011797325860983146 0.019066069605837507 0.0010879912235682973 0.0006297603550723777\n",
      "0.00031147999015272444 0.0018257370510630167 0.0001729711297059448 0.00012454120423134314\n",
      "7.875946113218658e-05 0.001049452189266725 0.0004808407805670847 2.629443270288592e-05\n",
      "1.0915879855848704e-05 0.0001153064676045657 5.849816994253416e-06 5.922306982604988e-06\n"
     ]
    }
   ],
   "source": [
    "rows = [l2error[i:i+4] for i in range(0, len(l2error), 4)]\n",
    "\n",
    "# Ausgabe als Tabelle\n",
    "for row in rows:\n",
    "    print(\"{:<10} {:<15} {:<10} {:<10}\".format(*row))"
   ]
  },
  {
   "cell_type": "markdown",
   "id": "fc8dc5cc",
   "metadata": {},
   "source": [
    "Yes the results are indicating the convergencerate we had in our analysis"
   ]
  }
 ],
 "metadata": {
  "kernelspec": {
   "display_name": "Python 3",
   "language": "python",
   "name": "python3"
  },
  "language_info": {
   "codemirror_mode": {
    "name": "ipython",
    "version": 3
   },
   "file_extension": ".py",
   "mimetype": "text/x-python",
   "name": "python",
   "nbconvert_exporter": "python",
   "pygments_lexer": "ipython3",
   "version": "3.8.10"
  }
 },
 "nbformat": 4,
 "nbformat_minor": 5
}
